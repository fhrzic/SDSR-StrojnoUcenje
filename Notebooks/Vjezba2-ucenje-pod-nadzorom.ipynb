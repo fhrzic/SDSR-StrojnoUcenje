{
 "cells": [
  {
   "cell_type": "markdown",
   "id": "b135baba-783c-4a4d-b2a1-89cd79b7c8f4",
   "metadata": {},
   "source": [
    "# Učenje pod nadzorom - linearna regresija\n",
    "\n",
    "<center><img src=\"Images/V2_banner.png\" width=\"700\" height=\"700\"/></center>\n",
    "\n",
    "\n",
    "\n",
    "**Učenje pod nadzorom** predstavlja vrstu problema u kojima postoji \"vanjski učitelj\", odnosno u podacima postoji utvrđena istina - oznaka koja je apsolutno točna. Sam zadatak je razviti model koji će temeljem ulaznih podataka naučiti predvitjeti oznake, odnosno uči relaciju $\\mathbb{R}^n \\rightarrow l; l \\in [\\mathbb{R}, \\mathbb{N}]$. Iz navedene relacije vidi se da oznaka može biti *diskretna* ili *kontinuirana vrijednost*. Predviđanje kontinuirane vrijednosti (skup $\\mathbb{R}$) naziva se regresijom.\n",
    "\n",
    "U statistici, **linearna regresija** se odnosi na svaki pristup modeliranju relacija između jedne ili više varijabli označene s Y, te jedne ili više varijabli označene s X, tako da takav model linearno ovisi o nepoznatim parametrima estimiranih iz podataka. [(Za više informacija)](https://hr.wikipedia.org/wiki/Linearna_regresija). Drugim riječima, potrebno je pronaći one parametre pomoću koji se linearno može modificirati odnos varijable X i varijable Y.\n",
    "\n",
    "---"
   ]
  },
  {
   "cell_type": "markdown",
   "id": "6b5a1a00-4d33-4ed8-997e-0e94a7037076",
   "metadata": {},
   "source": [
    "## Segmenti učenja pod nadzorom\n",
    "\n",
    "U učenju pod nadzorom postoji nekoliko temeljnih segmenata koji su zajednički bilo kojem promatranom problemu ove klase:\n",
    "\n",
    "\n",
    "1. **Ulazni podaci** - Razumijevanje ulaznih podataka i njihovo pretprocesiranje jedan je od najbitnijih koraka. Razviti dobar model bez prethodnog poznavanja ulaznih podataka je gotovo nemoguć izazov. Stoga domensko znanje i interdisciplinarnost jesu karakteristike koje se često vežu uz istraživače ovog područja.\n",
    "\n",
    "2. **Odabir modela** - Odabir dobrog modela, odnosno algoritma pa potom hiperparametara odabranog algoritma iziskuje puno iskustva i često je proces \"pokušaja i pogodaka\". Danas jedan najčešćih modela strojnog učenja jesu *neuronske mreže*.\n",
    "\n",
    "3. **Funkcija cilja** - Kako bi mogli mjeriti koliko neki model dobro opisuje/savladava zadani problem, potrebno je osmisliti funkciju koja će na neki način validirati-bodovati dani model. U tu svrhu kreirana je funkcija cilja koja se u konačnici i optimizira.\n",
    "\n",
    "4. **Optimizacija modela** - Nakon odabranog modela i funkcije cilja, potrebno ga je optimizirati, odnosno prilagoditi ga da što bolje savladava prethodno zadani problem. U optimizaciji modela nastoji se model i njegove parametre prilagoditi na takav način da što bolje opisuju zadani problem, odnosno da funkcija cilja za dani model i njegove hiperparametre bude minimala/maksimalna. \n",
    "\n",
    "---"
   ]
  },
  {
   "cell_type": "markdown",
   "id": "84851595-bd3c-4f1f-824e-53687fec6d8a",
   "metadata": {},
   "source": [
    "## Ulazni podaci\n",
    "\n",
    "Prvi korak jest razumjeti ulazne podatke. U datoteci *\"ledoSladoledi.txt\"* nalaze se podaci o populaciji ljudi u određenom mjestu i profitu kojeg je to mjesto ostvarilo. U prvom stupcu su podaci vezani za populaciju ljudi, dok je u drugom stupcu profit (negativni predznak označava gubitak). Za početak potrebno ih je učitati i prikazati na grafu kako bi čim lakše odabrali adekvatni model.\n",
    "\n",
    "---"
   ]
  },
  {
   "cell_type": "markdown",
   "id": "966703ae-481b-4fcb-938a-fafe63da7395",
   "metadata": {},
   "source": [
    "<font color='green'>\n",
    "    \n",
    "## Primjer\n",
    "\n",
    "<left><img src=\"Images/Primjer.png\" width=\"70\" height=\"70\"/></left>\n",
    "\n",
    "</font>\n",
    "\n",
    "Pokrenite idući programski kod koji će iscrtati podatke iz datoteke \"ledoSladoledi.txt\"."
   ]
  },
  {
   "cell_type": "code",
   "execution_count": null,
   "id": "8e9b74ca-2d31-4a3a-a650-27fc715180b3",
   "metadata": {
    "scrolled": true
   },
   "outputs": [],
   "source": [
    "# Autoreload\n",
    "%load_ext autoreload\n",
    "%autoreload 2\n",
    "    \n",
    "# Programske knjižice\n",
    "from Skripte.Vjezba2.inspekcija_podataka import plot_data\n",
    "\n",
    "# Funkcija za crtanje\n",
    "plot_data()"
   ]
  },
  {
   "cell_type": "markdown",
   "id": "f2b340e0-01b8-48eb-9c4e-b64d121cec90",
   "metadata": {},
   "source": [
    "<font color='red'>\n",
    "    \n",
    "## Zadatak\n",
    "\n",
    "<left><img src=\"Images/Zadatak.png\" width=\"70\" height=\"70\"/></left>\n",
    "\n",
    "</font>\n",
    "\n",
    "U skripti *Skripte.Vjezba2.inspekcija_podataka* implementirajte funkciju **inspect_data** koja će statistički opisati podatke tako da pronađe i ispiše sve što bi Vam moglo pomoći u dizajnu i odabiru modela poput srednje vrijednosti, percentila, minimalne i maksimalne vrijednosti te standardne devijacije. Razmislite što svaka od tih metrika predstavlja i na koja pitanja odgovara. \n",
    "\n",
    "U novije vrijeme, ovaj postupak naziva se stvaranjem otiska prsta skupa podataka odnosno *engl.* **dataset fingerprint**."
   ]
  },
  {
   "cell_type": "code",
   "execution_count": null,
   "id": "a5c0d786-ba6d-4243-b713-820a90abf942",
   "metadata": {},
   "outputs": [],
   "source": [
    "# Programske knjižice\n",
    "from Skripte.Vjezba2.inspekcija_podataka import inspect_data\n",
    "\n",
    "# Funkcija za crtanje\n",
    "inspect_data()"
   ]
  },
  {
   "cell_type": "markdown",
   "id": "234739a3-ee81-40cb-b553-acd1981264f0",
   "metadata": {},
   "source": [
    "---"
   ]
  },
  {
   "cell_type": "markdown",
   "id": "7ff49850-c57b-4edf-9d8c-5f1cacbd3771",
   "metadata": {},
   "source": [
    "## Odabir modela\n",
    "\n",
    "Budući da je tema ove vježbe **linearna regresija**, kao model će se koristiti linearna funkcija, odnosno pravac, čija jednadžba glasi:\n",
    "\n",
    "\\begin{equation}\n",
    "f(x) = y = \\theta_1 \\cdot x + \\theta_0 \n",
    "\\end{equation}\n",
    "\n"
   ]
  },
  {
   "cell_type": "markdown",
   "id": "c650a139-4f18-4d5d-b3d2-835fb80e7f47",
   "metadata": {},
   "source": [
    "<font color='red'>\n",
    "    \n",
    "## Zadatak\n",
    "\n",
    "<left><img src=\"Images/Zadatak.png\" width=\"70\" height=\"70\"/></left>\n",
    "\n",
    "</font>\n",
    "\n",
    "Idući programski kod iscrtava pravac, mijenjate parametre $\\theta_0$ i $\\theta_1$ te pokušajte pronaći pravac koji najbolje opisuje dane podatke. Iznesite svoja opažanja, odnosno kako procijenjujete koliko vaš pravac dobro opisuje podatke?"
   ]
  },
  {
   "cell_type": "code",
   "execution_count": null,
   "id": "985606de-e4c6-45f8-94c0-8dd77e64784a",
   "metadata": {},
   "outputs": [],
   "source": [
    "# Programske knjižice\n",
    "from Skripte.Vjezba2.inspekcija_podataka import draw_linear\n",
    "\n",
    "# Funkcija za crtanje\n",
    "draw_linear(theta0 = 0,\n",
    "           theta1 = 0)"
   ]
  },
  {
   "cell_type": "markdown",
   "id": "62379898-0346-43c8-8ec1-b5975bd59e2e",
   "metadata": {},
   "source": [
    "---"
   ]
  },
  {
   "cell_type": "markdown",
   "id": "4fa1bafb-41cc-474d-9afb-16c1944feb8e",
   "metadata": {},
   "source": [
    "## Funkcija cilja\n",
    "\n",
    "U evaluaciji regresije tipično se koristi nekoliko funkcija cilja, odnosno kriterija putem kojih se modeli mogu evaluairati. Neke od najčešćih su redom:\n",
    "\n",
    "1. MSE — Mean Squared Error (Srednja kvadratna pogreška)\n",
    "\\begin{equation}\n",
    "MSE = \\frac{1}{n} \\sum_{i=1}^{n} (y_i - \\hat{y}_i)^2\n",
    "\\end{equation}\n",
    "\n",
    "- Najčešće korištena metrika za regresiju.\n",
    "\n",
    "- Kažnjava velike greške više zbog kvadriranja (osetljiv na outliere.).\n",
    "\n",
    "---\n",
    "\n",
    "2. RMSE — Root Mean Squared Error (Korjen srednje kvadratne pogreške)\n",
    "\n",
    "\\begin{equation}\n",
    "RMSE = \\sqrt{ \\frac{1}{n} \\sum_{i=1}^{n} (y_i - \\hat{y}_i)^2 }\n",
    "\\end{equation}\n",
    "\n",
    "- Ima istu jedinicu kao ciljana vrednost.\n",
    " \n",
    "- Intuitivnija interpretacija od MSE.\n",
    "\n",
    "---\n",
    "3. MAE — Mean Absolute Error (Srednja apsolutna greška)\n",
    "\n",
    "\\begin{equation}\n",
    "MAE = \\frac{1}{n} \\sum_{i=1}^{n} |y_i - \\hat{y}_i|\n",
    "\\end{equation}\n",
    "\n",
    "- Manje osjetljiva na outliere.\n",
    "\n",
    "- Ravnomjernije kažnjava greške.\n",
    "\n",
    "---\n",
    "4. $R^{2}$ — Coefficient of Determination (Koeficijent determinacije)\n",
    "\n",
    "\\begin{equation}\n",
    "R^2 = 1 - \\frac{ \\sum_{i=1}^{n} (y_i - \\hat{y}_i)^2 }{ \\sum_{i=1}^{n} (y_i - \\bar{y})^2 }\n",
    "\\end{equation}\n",
    "\n",
    "- $R^{2}=1$: Model savršeno objašnjava sve promjene u zavisnoj varijabli, što je rijetko u stvarnom svijetu. \n",
    "\n",
    "- $R^{2}=0$: Model uopće ne objašnjava promjenljivost zavisne varijable. \n",
    "\n",
    "- Vrijednosti između 0 i 1: Većina modela ima vrijednost $R^{2}$ negdje u tom rasponu. Viša vrijednost znači da model bolje pristaje podacima.\n",
    "\n",
    "- Negativna vrijednost: model je lošiji od predikcije srednje vrijednosti za svaki dani podatak.\n",
    "\n",
    "---\n",
    "\n",
    "U danom problemu mjeri se udaljenost stvarne vrijednosti profita za svaki grad od vrijednosti profita koju za taj isti grad predviđa izračunati pravac (model). Navedene metrike su implementirane u knjižici **sklearn**.\n",
    "\n",
    "---"
   ]
  },
  {
   "cell_type": "markdown",
   "id": "68bed7d5-8e58-4679-bab0-660641feff39",
   "metadata": {},
   "source": [
    "<font color='zadatak'>\n",
    "    \n",
    "## Zadatak\n",
    "\n",
    "<left><img src=\"Images/Zadatak.png\" width=\"70\" height=\"70\"/></left>\n",
    "\n",
    "</font>\n",
    "\n",
    "U skripti *Skripte.Vjezba2.inspekcija_podataka* implementirajte prethodno navedene metrike u funkciji **evaluate_metrics** te mijenajući parametre $\\theta_0$ i $\\theta_1$ proučite kako se mijenjaju metrike. Provjerite jesu li prethodno odabrane vrijednosti $\\theta_0$ i $\\theta_1$ uistinu najbolje."
   ]
  },
  {
   "cell_type": "code",
   "execution_count": null,
   "id": "09757dfd-8bbf-401c-add6-85515196b56b",
   "metadata": {
    "scrolled": true
   },
   "outputs": [],
   "source": [
    "# Programske knjižice\n",
    "from Skripte.Vjezba2.inspekcija_podataka import evaluate_metrics\n",
    "\n",
    "# Funkcija za crtanje\n",
    "evaluate_metrics(theta0 = 0,\n",
    "                 theta1 = 0)"
   ]
  },
  {
   "cell_type": "markdown",
   "id": "dbc86fba-663e-40d6-82d8-dd8ac4143fb8",
   "metadata": {},
   "source": [
    "---"
   ]
  },
  {
   "cell_type": "markdown",
   "id": "72926cd1-9177-4569-b1e4-51ee212eba98",
   "metadata": {},
   "source": [
    "## Optimizacija modela\n",
    "\n",
    "Optimizirati model u ovom slučaju znači pronaći pravac koji najbolje opisuje dane podatke. Prvi pokušaj optimiziranja može biti čisti **grid search** algoritam ([poveznica](https://www.dremio.com/wiki/grid-search/)). Ideja samog algoritma je sistematski testirati ovistnost funkcije cilja o vrijednosti parametara $\\theta_0$ i $\\theta_1$.\n",
    "\n",
    "---"
   ]
  },
  {
   "cell_type": "markdown",
   "id": "5e20e5fc-ed15-4630-be35-a951b9e2c348",
   "metadata": {},
   "source": [
    "<font color='red'>\n",
    "    \n",
    "## Zadatak\n",
    "\n",
    "<left><img src=\"Images/Zadatak.png\" width=\"70\" height=\"70\"/></left>\n",
    "\n",
    "</font>\n",
    "\n",
    "U skripti *Skripte.Vjezba2.inspekcija_podataka* implementirajte prethodno navedene metrike u funkciji **grid_search**. Potrebno je stvoriti kombinacije parametara $\\theta_0$ i $\\theta_1$ i za njih izračunati score - odnosno cijenu. Završni produkt modificiranog programskog koda moraju biti tripleti ($\\theta_0$, $\\theta_1$ i $cijena$) koji su pohranjeni u tri vektora sa odgovarajućim indeksima (*_xs*, *_ys* i *score*).\n",
    "\n",
    "Protumačite dobiveni prostor cijena i odgovorite na pitanja: \n",
    "\n",
    "* Kako pronaći optimalno rješenje?\n",
    "* Mora li se za svaki problem tražiti optimalno rješenje?"
   ]
  },
  {
   "cell_type": "code",
   "execution_count": null,
   "id": "0a37cc3c-7b92-4b76-baae-36cd49fe1a91",
   "metadata": {
    "scrolled": true
   },
   "outputs": [],
   "source": [
    "# Programske knjižice\n",
    "from Skripte.Vjezba2.inspekcija_podataka import grid_search\n",
    "%matplotlib widget\n",
    "# Funkcija \n",
    "grid_search()"
   ]
  },
  {
   "cell_type": "markdown",
   "id": "0269d6b6-50d7-40dd-a096-46e2fb3be684",
   "metadata": {},
   "source": [
    "---"
   ]
  },
  {
   "cell_type": "markdown",
   "id": "9d79bc9b-509f-4f9e-92ca-ee6d2df37816",
   "metadata": {},
   "source": [
    "## Pronalazak optimalnog rješenja linearne funkcije\n",
    "\n",
    "Budući da je problem pravca odnosno linearni problem poprilično jednostavan problem, možemo ga riješiti i **analitički** i **numerički**.\n",
    "\n",
    "Oba pristupa problemu zahtijevaju poznavanje derivacije i funkcije cilja, u promatranom slučaju **Srednje kvadratne pogreške** (*engl. Mean Squared Error MSE*). Prije svega prisjetimose derivacije:\n",
    "\n",
    "\n",
    "* Derivacija opisuje brzinu promjene funkcije u odnosu na promjenu nezavisne varijable (argumenta funkcije). Deriviranjem funkcije dobije se druga funkcija istih argumenata. Za pojedinu vrijednost nezavisne varijable (derivacija u točki), derivacija je u toj točki jednaka 1 ako funkcija raste (povećava se vrijednost funkcije) jednako brzo kao i nezavisna varijabla; ako funkcija raste brže/sporije, derivacija je veća/manja od 1, te jednaka nuli ako se funkcija ne mijenja. Simetrično, ako funkcija pada (umanjuje se vrijednost funkcije dok argument raste), derivacija je negativna. Za neke funkcije derivacija ne postoji u nekim (ili u svim) točkama. Ako derivacija postoji, kaže se da je funkcija derivabilna u tim točkama ili u tome dijelu svoje domene.([Izvor](https://hr.wikipedia.org/wiki/Derivacija))\n",
    "\n",
    "\n",
    "* JEDNOSTAVNIJE: Derivacija kaže ako imamo funkciju koja ovisi o nekoliko parametara, kako promjena svakog parametara utječe na vrijednost funkcije. Primjerice ako u nekom kulinarskom natjecanju žiri ocjenjuje tortu. Svaka torta ima svoj recept koji kaže koliko koje namjernice ide u tu tortu. Nas zanima ako u receptu za tortu umjesto propisanih 50 dag čokolade stavimo 75 dag čokolade, kako će se promijeniti ocjena žirija.([Izvor](http://www.riteh.uniri.hr/osoba/franko-hrzic))"
   ]
  },
  {
   "cell_type": "markdown",
   "id": "c1e23b3d-d733-4a1a-9297-976c207b2c16",
   "metadata": {},
   "source": [
    "## Analitičko rješenje\n",
    "<font color='green'>\n",
    "    \n",
    "## Primjer\n",
    "\n",
    "<left><img src=\"Images/Primjer.png\" width=\"70\" height=\"70\"/></left>\n",
    "\n",
    "</font>\n",
    "\n",
    "Dakle ako se uzme funkcija cilja i dani model pravca:\n",
    "\n",
    "$ MSE = \\frac{\\sum_{i = 0}^{n}(y_i - \\hat{y}_i)^2}{n} $\n",
    "\n",
    "$ \\hat{y}_i = \\theta_0 + \\theta_1 x_i $\n",
    "\n",
    "deriviranjem funkcije cilja po svakom parametru modela $y$ dobit će se matematički opis kako svaki od parametara $\\theta$ utječe  na funkciju cilja.\n",
    "\n",
    "---\n",
    "\n",
    "Budući da se u zadataku traži pravac koji najbolje opisuje podatke, matematički se može izraziti traženje minimuma funkcije cilja po odabranim parametrima (vidljivo iz Promatranjem generiranog prostora ovisnosti cijene o parametrima):\n",
    "\n",
    "1. $\\frac{MSE}{\\delta\\theta_0} = 0$ \n",
    "\n",
    "2. $\\frac{MSE}{\\delta\\theta_1} = 0$\n",
    "\n",
    "\n",
    "1. $\\frac{\\delta (\\sum_{i=1}^n (y_i - f(x_i, \\theta_0, \\theta_1))^2}{\\delta\\theta_0} = 0$\n",
    "\n",
    "2. $\\frac{\\delta (\\sum_{i=1}^n (y_i - f(x_i, \\theta_0, \\theta_1))^2}{\\delta\\theta_1} = 0$\n",
    "\n",
    "---\n",
    "\n",
    "Raspisom, odnosno deriviranjem funkcija:\n",
    "\n",
    "1. $\\sum_{i = 1}^n 2 \\cdot (y_i - f(x_i, \\theta_0, \\theta_1))\\cdot \\frac{-\\delta f(x_i, \\theta_0, \\theta_1)}{\\delta \\theta_0} = 0$\n",
    "\n",
    "2. $\\sum_{i = 1}^n 2 \\cdot (y_i - f(x_i, \\theta_0, \\theta_1))\\cdot \\frac{-\\delta f(x_i, \\theta_0, \\theta_1)}{\\delta \\theta_1} = 0$\n",
    "\n",
    "Izlučivanjem konstanti dobivamo sljedeće funkcije:\n",
    "\n",
    "1. $\\sum_{i = 1}^n (y_i - f(x_i, \\theta_0, \\theta_1))\\cdot \\frac{\\delta f(x_i, \\theta_0, \\theta_1)}{\\delta \\theta_0} = 0$\n",
    "\n",
    "2. $\\sum_{i = 1}^n (y_i - f(x_i, \\theta_0, \\theta_1))\\cdot \\frac{\\delta f(x_i, \\theta_0, \\theta_1)}{\\delta \\theta_1} = 0$\n",
    "\n",
    "Izračun parcijalnih derivacija jest sljedeći:\n",
    "\n",
    "1. $\\delta \\frac{f(x_i, \\theta_0, \\theta_1)}{\\delta \\theta_0} = \\frac{\\delta (\\theta_0 + \\theta_1 x)}{\\theta_0} = 1$\n",
    "\n",
    "2. $\\delta \\frac{f(x_i, \\theta_0, \\theta_1)}{\\delta \\theta_1} = \\frac{\\delta (\\theta_0 + \\theta_1 x)}{\\theta_1} = x_i$\n",
    "\n",
    "---\n",
    "\n",
    "Uvrštavanjem prethodno izračunatih derivacija dobivaju se sljedeći izrazi:\n",
    "\n",
    "1. $\\sum_{i = 1}^n (y_i - \\theta_0 - \\theta_1 x_1) = 0$\n",
    "\n",
    "2. $\\sum_{i = 1}^n (y_i - \\theta_0 - \\theta_1 x_1)\\cdot x_1 = 0$\n",
    "\n",
    "---\n",
    "\n",
    "Raspisivanjem sustava prethodno napisanih jednadžbi one postaju sljedeći izrazi:\n",
    "\n",
    "1. $(\\sum_{i=1}^n x_i)\\cdot \\theta_1 + n\\cdot \\theta_0 = \\sum_{i=1}^n y_i$\n",
    "\n",
    "2. $(\\sum_{i = 1}^n x_{i}^2)\\cdot \\theta_1 + (\\sum_{i=1}^n x_i)\\cdot \\theta_0 = \\sum_{i=1}^n x_i\\cdot y_i $\n",
    "\n",
    "---\n",
    "\n",
    "U posljednjem koraku možemo formalizirati ispis na sljedeći način:\n",
    "\n",
    "$\\theta_0 = \\frac{\\sum x_{i}^2 \\sum y_i - \\sum x_i \\sum x_i y_i}{n \\sum x_{i}^2 - (\\sum x_i)^2} $\n",
    "\n",
    "$\\theta_1 = \\frac{n \\sum x_i y_i - \\sum x_i \\sum y_i}{n \\sum x_{i}^2 - (\\sum x_i)^2}$\n",
    "\n",
    "---\n"
   ]
  },
  {
   "cell_type": "markdown",
   "id": "5f8f573d-f6de-412a-a543-ce2e1e40f7c5",
   "metadata": {},
   "source": [
    "<font color='red'>\n",
    "    \n",
    "## Zadatak\n",
    "\n",
    "<left><img src=\"Images/Zadatak.png\" width=\"70\" height=\"70\"/></left>\n",
    "\n",
    "</font>\n",
    "\n",
    "Koristeći prethodne izvode za dane točke: $(0,2), (1,3), (2,5), (3,4), (4,6)$ Odredite:\n",
    "\n",
    "* Jednadžbu regresijskog pravca\n",
    "* Procijenjenu vrijednost kada je x = 10\n",
    "    \n",
    "\n",
    "---\n",
    "\n",
    "<span style=\"color:red; font-size: 18pt\"> **Rješenje!**</span>\n",
    "\n",
    "\n",
    "Koristimo izvedene formule:\n",
    "\n",
    "1. $(\\sum_{i=1}^n x_i)\\cdot \\theta_1 + n\\cdot \\theta_0 = \\sum_{i=1}^n y_i$\n",
    "\n",
    "2. $(\\sum_{i = 1}^n x_{i}^2)\\cdot \\theta_1 + (\\sum_{i=1}^n x_i)\\cdot \\theta_0 = \\sum_{i=1}^n x_i\\cdot y_i $\n",
    "\n",
    "Potrebno je izračunati sume:\n",
    "\n",
    "|            |    |   |   |    |     | $\\sum$ |\n",
    "|:---------:|:-:|:-:|:--:|:--:|:--:|:------:|\n",
    "|   $x_i$   | 0 | 1 |  2 |  3 |  4 |   10   |\n",
    "|   $y_i$   | 2 | 3 |  5 |  4 |  6 |   20   |\n",
    "| $x_{i}^2$ | 0 | 1 |  4 |  9 | 16 |   30   |\n",
    "| $x_{i}y_i$ | 0 | 3 | 10 | 12 | 24 |   49   |\n",
    "\n",
    "---\n",
    "\n",
    "Uvrštavanjem u formule dobivamo sljedeće izraze\n",
    "\n",
    "1. $ 10 \\theta_1 + 5 \\theta_0 = 20 $\n",
    "\n",
    "2. $ 30 \\theta_1 + 10 \\theta_0 = 49$\n",
    "\n",
    "---\n",
    "\n",
    "Rješenje sustava je:\n",
    "\n",
    "$\\theta_0 = 2.2$ , $\\theta_1 = 0.9$\n",
    "\n",
    "$y = 0.9x + 2.2$\n",
    "\n",
    "---\n",
    "\n",
    "Za x = 10:\n",
    "\n",
    "$ y = 0.9 * 10 + 2.2 = 11.2$\n",
    "\n",
    "---"
   ]
  },
  {
   "cell_type": "markdown",
   "id": "f2ac7d3d-b19a-4af6-8b97-6587ba2ee064",
   "metadata": {},
   "source": [
    "<font color='red'>\n",
    "    \n",
    "## Zadatak\n",
    "\n",
    "<left><img src=\"Images/Zadatak.png\" width=\"70\" height=\"70\"/></left>\n",
    "\n",
    "</font>\n",
    "\n",
    "Koristite sljedeći generator zadataka kako bi izvježbali analitičko računanje rješenja linearne regresije."
   ]
  },
  {
   "cell_type": "code",
   "execution_count": null,
   "id": "abc8b82b-ab1b-4115-97bb-13c35ae3712e",
   "metadata": {},
   "outputs": [],
   "source": [
    "# Programske knjižice\n",
    "from Skripte.Vjezba2.generator_zadataka import generator\n",
    "%matplotlib widget\n",
    "# Funkcija \n",
    "generator()"
   ]
  },
  {
   "cell_type": "markdown",
   "id": "109df1a7-bd3f-4bcb-ba87-ebe22e88a1f4",
   "metadata": {},
   "source": [
    "---"
   ]
  },
  {
   "cell_type": "markdown",
   "id": "f818091c-1dcc-4db8-955e-a4dd7785feaa",
   "metadata": {},
   "source": [
    "## Numeričko rješenje\n",
    "\n",
    "Analitičko rješenje je praktično, ali samo za mali broj parametara. Ako je model složen, izračun parcijalnih derivacija postaje suviše zahtjevan. U tu svrhu razvilo se **numeričko rješenje**.\n",
    "\n",
    "Inspekcijom funkcije cilja i njenom korelacijom s različitim vrijednostima parametra $\\theta$, može se uočiti jedno bitno svojstvo, a to je **konveksnost funkcije**, odnosno da postoji cijeli niz kombinacija parametara $\\theta_0$ i $\\theta_1$ koji postižu minimum funkcije koji je ujedno i globalni minimum funkcije. Ako krenemo od nasumičnog odabira parametara $\\theta_0$ i $\\theta_1$ dok god se krećemo \"nizbrdo\" po funkciji cilja dolazimo do vrijednosti parametara koji postižu minimum funkcije cilja. Jedan od načina kretanja \"nizbrdo\" jest **gradijentni spust**. \n",
    "\n",
    "**Gradijentni spust** *(engl. Gradient descent)* je generički optimizacijski algoritam koji je u stanju pronaći optimalna rješenja za veliki broj problema u kojima se funkcija cilja može dervirati po svojim ulaznim parametrima. Temeljna ideja gradijentnog spusta jest iterativnim postupkom mijenjati parametre s ciljem minimiziranja (ili maksimiziranja) funkcije cijene.\n",
    "\n",
    "Pojednostavljena ideja iza gradijentnog spusta leži u činjenici da funkciju cijene možemo skicirati kao \"brda i doline\" gdje tražimo najnižu moguću točku u koju možemo doći iz trenutne pozicije. Primjer funkcije cijene srednje kvadratne pogreške za linearnu regresiju može se vidjeti na sljedećoj slici:\n",
    "\n",
    "<center><img src=\"Images/V2_gradient.png\" width=\"500\" height=\"500\"/></center>\n",
    "\n",
    "\n",
    "Na samom početku nasumično se odrede vrijednosti parametra $\\Theta$ *(engl. random initialization)* po kojem je funkcija cijene parametrizirana. U svakoj od sljedećih iteracija mijenja se parametar $\\Theta$ na takav način da se vrijednosti ažuriraju niz gradijent (prva derivacija funkcije cijene). Drugim riječima, izračun gradijenta predstavlja smjer u kojem se nalazi \"bolje\" rješenje od onog trenutnog. Kako bi se odredila veličina \"koraka\" u smjeru ka boljem rješenju, uvodi se hiperparametar stope učenja $\\alpha$ *(engl. learning rate)*.\n",
    "\n",
    "Određivanje stope učenja $\\alpha$ u izvornom algoritmu gradijentnog spusta provodi se empirijski (tako da postoji iskustvo na sličnom problemu), ili eksperimentalno koristeći metodu poput Grid-Search algoritma. Također neka poboljšanja gradijentnog spusta sadrže u sebi metodu kojom adaptiraju (mijenjaju) stopu učenja u ovisnosti o duljini treniranja, ili postoji *scheduler* koji postavlja stopu učenja prema nekom od prethodno definiranih pravila.\n",
    "\n",
    "---\n",
    "\n",
    "#### Matematička formulacija Gradijentnog spusta\n",
    "\n",
    "Dakle, gradient descent je iterativni optimizacijski algoritam prvog stupnja koji u svakoj iteraciji čini korak proporcionalan negativu gradijenta (ili procjene gradijenta) funkcije cilja u trenutnoj točki.\n",
    "\n",
    "Formula po kojoj se gradijentni spust računa jest:\n",
    "\n",
    "$$\\Theta_{n+1} = \\Theta_n - \\alpha\\cdot\\bigtriangledown_\\Theta J(\\Theta) $$\n",
    "\n",
    "Parametar koji se mora zadati kada se koristi gradijentni spust jest:\n",
    "\n",
    "* $\\alpha$ - stopa učenja (engl. learning rate) koji kaže za koliko se prilikom svakog koraka ažuriraju parametri\n",
    "\n",
    "---\n",
    "\n",
    "Ovom intuicijom može se za proizvoljno odabrane  parametre $\\theta_0$ i $\\theta_1$ izračunati gradijent-promjena funkcije cilja. Gradijent će pokazati u kojem smjeru je \"nizbrdo\", odnosno dati će nagib funkcije u danoj točki, ali neće reći za koliko se potrebno pomaknuti u tom smjeru. U tu svrhu uvodi se parametar **stope učenja** $\\alpha$. Navedeno se matematički može izreći na sljedeći način:\n",
    "\n",
    "Funkcija cilja glasi:\n",
    "\n",
    "$ MSE = \\frac{\\sum_{i = 0}^{n}(y_i - \\hat{y}_i)^2}{2n} $ - dodajemo 2 u nazivnik zbog lakšeg deriviranja.\n",
    "\n",
    "Funkcija $\\hat{y}$ glasi:\n",
    "\n",
    "$\\hat{y} = \\theta_1 \\cdot x + \\theta_0 = \\theta^T x$ - ako svakom $x$-u pridružimo još broj 1 ($x = [1, x]$).\n",
    "\n",
    "---\n",
    "\n",
    "Gradijent se izračunava tako što se derivira funkciju cilja po parametrima $\\theta_0$ i $\\theta_1$:\n",
    "\n",
    "$\\frac{\\delta(J)}{\\delta \\theta_0} = \\frac{1}{n} \\cdot \\sum_{i=0}^{n}(y_i - \\hat{y}_i)\\cdot1$\n",
    "\n",
    "$\\frac{\\delta(J)}{\\delta \\theta_1} = \\frac{1}{n} \\cdot \\sum_{i=0}^{n}(y_i - \\hat{y}_i)\\cdot x_i$\n",
    "\n",
    "---\n",
    "\n",
    "Odnosno:\n",
    "\n",
    "$\\frac{\\delta(J)}{\\delta \\theta} = \\frac{1}{n} \\cdot \\sum_{i=0}^{n}(y_i - \\hat{y}_i)\\cdot x_i$ -uz prethodno navedenu promjenu $x$-a\n",
    "\n",
    "A jedan korak gradijentnog spusta glasi:\n",
    "$\\theta_{j+1} = \\theta_j - \\alpha \\cdot \\frac{1}{n} \\cdot \\sum_{i=0}^{n}(y_i - \\hat{y}_i)\\cdot x_i$\n",
    "\n",
    "---\n"
   ]
  },
  {
   "cell_type": "markdown",
   "id": "f99166af-790d-419a-9793-ba7fa7c9410b",
   "metadata": {},
   "source": [
    "<font color='red'>\n",
    "    \n",
    "## Zadatak\n",
    "\n",
    "<left><img src=\"Images/Zadatak.png\" width=\"70\" height=\"70\"/></left>\n",
    "\n",
    "</font>\n",
    "\n",
    "\n",
    "Sljedeći programski kod omogućuje mijenjanje sljedećih vrijednosti:\n",
    "\n",
    "* broj iteracija.\n",
    "* stopu učenja $\\alpha$\n",
    "* inicijalne vrijednost parametara $\\theta_0$ i $\\theta_1$\n",
    "\n",
    "Mijenjajte parametre $\\alpha$, $\\text{brojIteracija}$ i inicijalni $\\theta$. Proučite i iznesite zaključke kako parametri utječu na konvergenciju gradijentnog spusta. Što se dešava kada je parametar $\\alpha$ premali, a što kada je prevelik?\n"
   ]
  },
  {
   "cell_type": "code",
   "execution_count": null,
   "id": "85d5e515-742f-49ca-aa5b-e3b5ee2a5edf",
   "metadata": {
    "scrolled": true
   },
   "outputs": [],
   "source": [
    "# Programske knjižice\n",
    "from Skripte.Vjezba2.gradient_descent import plot_interactive\n",
    "%matplotlib widget\n",
    "# Funkcija \n",
    "plot_interactive()"
   ]
  },
  {
   "cell_type": "markdown",
   "id": "344f98e2-9d99-48b5-bb43-43384dac7b59",
   "metadata": {},
   "source": [
    "---\n",
    "---"
   ]
  },
  {
   "cell_type": "markdown",
   "id": "5e332ac5-2867-43e0-b404-c1fe1ea0e318",
   "metadata": {},
   "source": [
    "## PyTorch implementacija\n",
    "\n",
    "<font color='red'>\n",
    "    \n",
    "## Zadatak\n",
    "\n",
    "<left><img src=\"Images/Zadatak.png\" width=\"70\" height=\"70\"/></left>\n",
    "\n",
    "</font>\n",
    "\n",
    "PyTorch implemetnacija se sastoji od nekoliko ključnih komponenti:\n",
    "\n",
    "1.) Učitavač podataka (**Dataloader**)\n",
    "\n",
    "2.) **Model**\n",
    "\n",
    "3.) Trening subrutine\n",
    "\n",
    "4.) Validacijske subrutine\n",
    "\n",
    "Za sljedeće vježbe, pokušajte samostalno implementirati linearnu regresiju pomoću PyTorch-a."
   ]
  }
 ],
 "metadata": {
  "kernelspec": {
   "display_name": "Python 3 (ipykernel)",
   "language": "python",
   "name": "python3"
  },
  "language_info": {
   "codemirror_mode": {
    "name": "ipython",
    "version": 3
   },
   "file_extension": ".py",
   "mimetype": "text/x-python",
   "name": "python",
   "nbconvert_exporter": "python",
   "pygments_lexer": "ipython3",
   "version": "3.12.11"
  }
 },
 "nbformat": 4,
 "nbformat_minor": 5
}
