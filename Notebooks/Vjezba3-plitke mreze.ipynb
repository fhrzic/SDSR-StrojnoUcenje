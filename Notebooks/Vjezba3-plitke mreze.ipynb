{
 "cells": [
  {
   "cell_type": "markdown",
   "id": "2db7b7d7-eef1-4332-b32c-4deda6925d04",
   "metadata": {},
   "source": [
    "# Plitke neuronske mreže -- intuicija\n",
    "\n",
    "<center><img src=\"Images/V3_banner.png\" width=\"700\" height=\"700\"/></center>\n",
    "\n",
    "U ovoj vježbi cilj je vidjeti kako je nastala sa matematičke perspektive neuronska mreža, te dobiti intuiciju što znači dodati neuron u neuronskoj mreži. Tijekom cijelog postupka koristiti će **PyTorch** kako bi kasnije tranzicija na praktične neuronske mreže bila laka. Za početak potrebno je definirati *engl. Artificial Neural Network (ANN)* odnosno neuronsku mrežu.\n",
    "\n",
    "**Neuronska mreža** je računalni model inspiriran strukturom i funkcioniranjem ljudskog mozga. Trenutno je najpopularnija metoda u području strojnog učenja zbog različitih mehanizama koji omogućuju široku primjenu gdje nerjetko ostvaraju najbolje rezultate. Unatoč brojnim mehanizmimima, najmanji gradivni blok neuronske mreže -- neuron -- reprezentiran je u računalnom modelu pomoću tri ključne komponente:\n",
    "\n",
    "* Ulaznog podataka, koji može biti stvarni podatak ili izlaz prethodnog neurona.\n",
    "* Aktivacijske funkcije, funkcije koja mijenja vrijednost neurona.\n",
    "* Izlaznog podatka, potatka koji može predstavljati konačni izlaz/rezultat ili ulaz u idući neuron.\n",
    "\n",
    "Najjednostavni oblik neuronske mreže tipično korišten za stvaranje konačnog izlaza jest **Perceptron**, odnosno višeslojni perceptron (*engl. Multilayer perceptron*) ([Multilayer Perceptron](https://en.wikipedia.org/wiki/Multilayer_perceptron)). Prikaz jednog višeslojnog perceptrona može se vidjeti i na prikazanoj slici.\n",
    "\n",
    "---"
   ]
  },
  {
   "cell_type": "markdown",
   "id": "eeb6b310-cf0d-4cf0-9a16-2c74763899c8",
   "metadata": {},
   "source": [
    "### Skup podataka Bike-rental \n",
    "\n",
    "<center><img src=\"Images/V3_bike_rental.png\" width=\"700\" height=\"700\"/></center>\n",
    "\n",
    "Podaci kojima će biti centar ove vježbe mogu se pronaći na Kaggle natjecanju [bike-rental dataset](https://www.kaggle.com/datasets/archit9406/bike-sharing). Skup podataka centriran je oko iznajmljivanja bicikli u Washington D.C.-u pružajući, osim broja iznajmljenih bicikli, i informacije koje karakteriziraiju dan za koji su se iznajmili bicikli. Problem koji se riješava jest predviđanje broja iznajmljenih bicikala u ovisnosti o karakteristikama dana.\n",
    "\n",
    "Za početak, potrebno je stvoriti **Dataloader** u duhu **PyTorch** programske knjižice. Dataloader, kao što mu ima kaže zaslužan je za učitavanje i pripremu podataka za daljnje korištenje i treniranje modela. U sklopu ove vježbe priložen je programski kod u datoteci **dataloader.py** koji implementira klasu **bikeRentalDataset**. Kako bi se klasa moga koristiti untar PyTorch dataloadera, ona mora mora imati implementirane tri metode:\n",
    "\n",
    "* \\__init__  -- metoda koja inicijalizira klasu te se odlikuje učitavanjem podataka i incijalizacijom komponenti koje će se koristiti u složenijim primjerima poput koeficjenata normalizacije, metode augmentacije, dozvole upotrebe određenih ulaza ili micanje istih. Rezultat ove metode jesti lista podataka koja je indeksirana gdje svaki element liste predstavlja jedan uzorak/jedan podataka unutar skupa podataka.\n",
    "* \\__getitem__ -- metoda koja vraća jedan podatak iz skupa podataka. Bitno je da vrijednosti koje metoda vraća su *torch.Tensori* kako bi se isti mogli odmah koristiti za treniranje modela i bili komaptibilni sa **Dataloader** klasom iz PyTorcha koja je pruža puno pogodnosti poput različitih politika sampliranja i vraća predefiniranog broja podataka odjednom (*batch*). Više o Dataloader-u kao klasi može se pronaći na sljedećoj [poveznici](https://docs.pytorch.org/tutorials/beginner/basics/data_tutorial.html).\n",
    "* \\__len__ -- jednostavna metoda koja vraća ukupni broj podataka/uzoraka u skupu podataka.\n",
    "\n",
    "U ovoj vježbi implementirati će se komplenta klasa sa sljedećim karakteristikama:\n",
    "\n",
    "* Skup podataka prima točno jednu ulaznu oznaku i točno jednu izlaznu oznaku.\n",
    "* Predstavlja minimalni radni primjer, što znači da nema nikakvih dodataka poput augmentacije ili normalizacije podataka.\n",
    "* Učitavač podataka - dataloader, podešen je na način da uvijek vraća samo jedan podatak.\n",
    "\n",
    "Međutim, svaki učitavač podataka prati istu logiku implementacije te na kraju ove vježbe, osim intuicije iza plitkih neuronskih mreža, znati ćete i kreirati vlasiti učitavač podataka u duhu programske knjižice PyTorch.\n",
    "\n",
    "---"
   ]
  },
  {
   "cell_type": "markdown",
   "id": "24b404c9-9073-4519-9340-07c2123e6d9c",
   "metadata": {},
   "source": [
    "<font color='red'>\n",
    "    \n",
    "## Zadatak\n",
    "\n",
    "<left><img src=\"Images/Zadatak.png\" width=\"70\" height=\"70\"/></left>\n",
    "\n",
    "</font>\n",
    "\n",
    "Za početak potrebno je provjeriti koje oznake postoje u danom skupu podataka, koliko podataka imamo i istražiti sa čime zapravo radimo kako bi mogli odabrati jedan ulazni i jedan izlazni podatak. Svaki skup podataka ima i korisne i beskorisne informacije (šum), na dizajneru rješenja jest da odluči koji podaci su korisni, a koji beskorisni. U sljedećoj programskoj ćeliji implementirajte programski kod koristeći resurse ove vježbe kako bi prikupili inicijalne informacije o skupu podataka **bikeRental** te odgovorite na sljedeća pitanja:\n",
    "\n",
    "* Koji je najefikasniji način za selekciju korisnih ulaznih podataka?\n",
    "* Jesu li skup podataka potpun - imamo li problema sa nepotpunim podacima?\n",
    "* Kako je u skupu podataka označen podatak koji je potrebno predvidjeti?\n",
    "* Koji je najkorisniji ulazni podatak?\n",
    "\n",
    "Podaci se nalaze u datoteci: **\"Notebooks/Skripte/Vjezba3/day_bikes_rental.csv\"**"
   ]
  },
  {
   "cell_type": "code",
   "execution_count": null,
   "id": "f4f77ec7-3b80-4310-8445-08883a7f3942",
   "metadata": {},
   "outputs": [],
   "source": [
    "# Autoreload\n",
    "%load_ext autoreload\n",
    "%autoreload 2\n",
    "\n",
    "# Vaš kod ovdje #TODO\n",
    "from Skripte.Vjezba3.dataloader import inspect_dataset\n",
    "inspect_dataset(\"Skripte/Vjezba3/day_bikes_rental.csv\")"
   ]
  },
  {
   "cell_type": "markdown",
   "id": "1bda7818-6313-4203-89f4-1bb6db22bfd5",
   "metadata": {},
   "source": [
    "---"
   ]
  },
  {
   "cell_type": "markdown",
   "id": "c1f2eb40-9c11-4d04-ad81-1b2301d751e1",
   "metadata": {},
   "source": [
    "<font color='red'>\n",
    "    \n",
    "## Zadatak\n",
    "\n",
    "<left><img src=\"Images/Zadatak.png\" width=\"70\" height=\"70\"/></left>\n",
    "\n",
    "</font>\n",
    "\n",
    "Proučite programski kod u skripti **dataloader.py**, posebno klasu *bikeRentalDataset* te *ordinary_dataloader* ,te izvršite/odgovorite na iduća pitanja:\n",
    "\n",
    "* Koje su nužne funkcije za implementirati dataset u svrhu korištenja unutar PyTorch programskog okruženja.\n",
    "* Koja je uloga Dataloadera, a koja Dataseta?\n",
    "* Provjerite kako radi pogramski kod za različite ulazne i izlazne varijable te razmislite koje su potencijalne\n",
    "nadogradnje navedenog Dataseta te koje su primjene ovako dizajniranog dataseta."
   ]
  },
  {
   "cell_type": "code",
   "execution_count": null,
   "id": "045ab8bd-c8aa-43b3-845b-ff1e0a932ea9",
   "metadata": {},
   "outputs": [],
   "source": [
    "# Knjižnice\n",
    "from Skripte.Vjezba3.dataloader import bikeRentalDataset, ordinary_dataloader\n",
    "\n",
    "# Dataset\n",
    "_dataset = bikeRentalDataset(path_to_csv = \"Skripte/Vjezba3/day_bikes_rental.csv\",\n",
    "                             input_label = \"season\",\n",
    "                             target_label = \"cnt\")\n",
    "\n",
    "# Dataloader\n",
    "_dataloader = ordinary_dataloader(dataset = _dataset,\n",
    "                                 batch_size = 1)\n",
    "\n",
    "# Iterirajmo kroz nekliko podataka\n",
    "for _i, _item in enumerate(_dataloader):\n",
    "    print(_item)\n",
    "    if _i == 10:\n",
    "        break"
   ]
  },
  {
   "cell_type": "markdown",
   "id": "439b6f77-86be-4ec4-b25a-150951f67158",
   "metadata": {},
   "source": [
    "---"
   ]
  },
  {
   "cell_type": "markdown",
   "id": "0c645ef6-8c86-4af0-b828-80c1647b7c21",
   "metadata": {},
   "source": [
    "<font color='red'>\n",
    "    \n",
    "## Zadatak\n",
    "\n",
    "<left><img src=\"Images/Zadatak.png\" width=\"70\" height=\"70\"/></left>\n",
    "\n",
    "</font>\n",
    "\n",
    "Razmislite o načinima kako odrediti koji su najkorisnije informacije među podacima za predvidjeti broj iznajmljenih bicikala. \n",
    "Idući programski kod za vas crta ovisnost dviju varijabli te mjeri njihovu korelaciju. Proučite više o korelaciji te odgovorite na iduća pitanja:\n",
    "\n",
    "* Što znači korelacija 1, -1 ili 0 između dviju varijabli?\n",
    "* Koja je varijabla najviše a koja najmanje korelirana?\n",
    "* Koja je mana, odnosno na koje pitanje dani programski kod ne odgovara? Pomoć: što ako izlaz ovisi o kombinaciji dviju varijabli?\n",
    "\n",
    "Više informacija o korelaciji može se pronaći na idućim poveznicama [Wiki](https://en.wikipedia.org/wiki/Correlation), [Ilustrativno](https://www.scribbr.com/statistics/correlation-coefficient/)."
   ]
  },
  {
   "cell_type": "code",
   "execution_count": null,
   "id": "42376999-6a98-4dcd-88af-da378943fe9e",
   "metadata": {},
   "outputs": [],
   "source": [
    "# Knjižnice\n",
    "from Skripte.Vjezba3.plot import create_bike_correlation_widget\n",
    "\n",
    "# Widget start\n",
    "create_bike_correlation_widget(path_to_csv = \"Skripte/Vjezba3/day_bikes_rental.csv\")"
   ]
  },
  {
   "cell_type": "markdown",
   "id": "be70354b-e4cc-4c2a-a100-306560ced89b",
   "metadata": {},
   "source": [
    "---"
   ]
  },
  {
   "cell_type": "markdown",
   "id": "3da01318-c6c3-4d2d-9522-88a78a72e291",
   "metadata": {},
   "source": [
    "## Izrada modela \n",
    "\n",
    "U prethodnoj vježbi bilo je potrebno implementirati pravac pomoću knjižnice PyTorch. U skripti **Notebooks/Skripte/Vjezba3/models.py** isto je učinjeno unutar klase **model_1_1_1**.\n",
    "\n",
    "Svaka implementacija modela u sklopu PyTorch programske knjižice zahtjeva implementaciju dviju metoda: *\\__init__* i *forward*. Dok init metoda služi za incijalizaciju slojeva i parametara, forward metoda vrši izračun modela i iskorištava slojeve. Premda ovaj jednostavni primjer nema puno slojeva, zorno prikazije i kreiranje bilo kakvog složenijeg modela u PyTorchu.\n",
    "\n",
    "---\n",
    "\n",
    "<font color='green'>\n",
    "    \n",
    "## Primjer\n",
    "\n",
    "<left><img src=\"Images/Primjer.png\" width=\"70\" height=\"70\"/></left>\n",
    "\n",
    "</font>\n",
    "\n",
    "Proučite iduće programske kodove koji omogućuju inspekciju modela."
   ]
  },
  {
   "cell_type": "code",
   "execution_count": null,
   "id": "857d8386-ef3e-4b92-a17e-697bbd047609",
   "metadata": {},
   "outputs": [],
   "source": [
    "# Knjižnice\n",
    "from Skripte.Vjezba3.models import *\n",
    "\n",
    "# Kreiranje modela\n",
    "_model = model_1_1_1(theta0_init = 0.5,\n",
    "                     theta1_init = 1.2)"
   ]
  },
  {
   "cell_type": "code",
   "execution_count": null,
   "id": "08d7058f-5c60-4d23-84cc-c14c17c54c11",
   "metadata": {},
   "outputs": [],
   "source": [
    "# Ispis osnovnog opisa modela (inspekcija broja parametara)\n",
    "print_model_summary(model = _model,\n",
    "                   device = \"cpu\",\n",
    "                   input_dim = (1,1))"
   ]
  },
  {
   "cell_type": "code",
   "execution_count": null,
   "id": "6435e9d2-df84-4f3c-a69c-7749fcbdb7fa",
   "metadata": {},
   "outputs": [],
   "source": [
    "# Iscrtavanje grafa modela (inspekcija povezanosti slojeva)\n",
    "plot_graph(model = _model,\n",
    "           device = \"cpu\",\n",
    "           input_dim = (1,1))"
   ]
  },
  {
   "cell_type": "markdown",
   "id": "eb7ee129-bf39-45a6-a261-37715351a1b0",
   "metadata": {},
   "source": [
    "<font color='red'>\n",
    "    \n",
    "## Zadatak\n",
    "\n",
    "<left><img src=\"Images/Zadatak.png\" width=\"70\" height=\"70\"/></left>\n",
    "\n",
    "</font>\n",
    "\n",
    "Idući kod implementira PyTorch model. Vaš je zadatak mijenjajući parametre $\\theta0$ i $\\theta1$ postići čim nižu vrijednost metrike MSE. Istovremeno proučite i odgovorite na pitenje: Koje je uloga normalizacije podataka? te Kako je normalizacija implementirana u priloženom programskom kodu? \n",
    "\n",
    "Više o normalizaciji možete pronaći na idućoj [poveznici](https://www.datacamp.com/tutorial/normalization-in-machine-learning)."
   ]
  },
  {
   "cell_type": "code",
   "execution_count": null,
   "id": "188a6db0-9c8b-4d15-b183-01d63b7415a2",
   "metadata": {},
   "outputs": [],
   "source": [
    "# Knjižnice\n",
    "from Skripte.Vjezba3.plot import create_line_fit_widget\n",
    "create_line_fit_widget()"
   ]
  },
  {
   "cell_type": "markdown",
   "id": "accfc0ec-9beb-48a9-8a81-336322eb972a",
   "metadata": {},
   "source": [
    "---"
   ]
  },
  {
   "cell_type": "markdown",
   "id": "b72efed5-613b-4d1b-9323-9d04fce278b2",
   "metadata": {},
   "source": [
    "## Aktivacija \"neurona\"\n",
    "\n",
    "Da bi model prezentiran u prethodnim zadacima i primjerima postao neuronskom mrežom, nedostaju mu dvije komponente:\n",
    "\n",
    "* Više slojeva, premda diskutabilno, ali jedan neuron nije mreža,\n",
    "* Aktivacijska funkcija koja ima ulogu mijenjanja ulaznog podatka.\n",
    "\n",
    "**Aktivacijske funkcije** su važne jer uvode nelinearnost, omogućujući neuronskim mrežama da uče složene, nelinearne obrasce u podacima. Bez njih, neuronska mreža bi bila ograničena na jednostavne linearne odnose, poput jednoslojnog modela, bez obzira na to koliko slojeva ima. Drugim riječima rezulate kombinacije više linearnih funkcija jest opet linearna funkcija, što ne doprinosi učenju složenih relacija. Također su ključne za omogućavanje hijerarhijskog učenja u dubokim mrežama i djeluju kao \"univerzalni aproksimator funkcije\". ([Više o temi](https://towardsdatascience.com/the-importance-and-reasoning-behind-activation-functions-4dc00e74db41/)) \n",
    "\n",
    "Postoji veliki broj aktivacijskih funkcija, ali najpopularnije su sljdeće:\n",
    "\n",
    "* Rectified Linear Unit (ReLU):\n",
    "\n",
    "$$\\mathrm{ReLU}(x) = \\max(0, x)$$\n",
    "\n",
    "* Tanh:\n",
    "$$\\tanh(x) = \\frac{e^{x} - e^{-x}}{e^{x} + e^{-x}}$$\n",
    "  \n",
    "* Sigmoid:\n",
    "\n",
    "$$\\sigma(x) = \\frac{1}{1 + e^{-x}}$$\n",
    "\n",
    "* Softmax:\n",
    "\n",
    "$$\\mathrm{softmax}(z)_i=\\frac{e^{z_i-\\max_j z_j}}{\\sum_{j} e^{z_j-\\max_j z_j}}$$\n",
    "\n",
    "Na sljedećoj slici prikazan je veliki broj [aktivacijskih funkcija](https://vinija.ai/concepts/activation/), od kojih se većina i ne koristi u praksi:\n",
    "\n",
    "<center><img src=\"Images/V3_aktivacijske_funkcije.png\" width=\"700\" height=\"700\"/></center>\n",
    "\n",
    "Naime, aktivacijska funkcija moa biti derivabilna (sjetite se gradijentnog spusta) i komputacijski jednostavna jer će se računati veliki broj puta.\n",
    "\n",
    "---"
   ]
  },
  {
   "cell_type": "markdown",
   "id": "e336d13c-eda5-4d0b-ac7a-a004256408a2",
   "metadata": {},
   "source": [
    "<font color='red'>\n",
    "    \n",
    "## Zadatak\n",
    "\n",
    "<left><img src=\"Images/Zadatak.png\" width=\"70\" height=\"70\"/></left>\n",
    "\n",
    "</font>\n",
    "\n",
    "Pokrenite idući kod i provjerite kako odabir aktivacijske funkcije utječe na konačni rezultat modela -- sada već neuronske mreže. Iznesite svojstva svake funkcije, koje su prednost i mane jedne nad drugima. Zabilježite svoja opažanja."
   ]
  },
  {
   "cell_type": "code",
   "execution_count": null,
   "id": "055aada5-b367-4c86-a79e-32eee2f6c8fd",
   "metadata": {},
   "outputs": [],
   "source": [
    "# Knjižnice\n",
    "from Skripte.Vjezba3.plot import create_line_fit_with_activation_widget\n",
    "create_line_fit_with_activation_widget()"
   ]
  },
  {
   "cell_type": "code",
   "execution_count": null,
   "id": "04bf76ff-b601-4f40-8942-0441b15e10b9",
   "metadata": {
    "scrolled": true
   },
   "outputs": [],
   "source": [
    "# Iscrajmo graf sa nekom aktivacijskom funkcijom\n",
    "# Knjižnice\n",
    "from Skripte.Vjezba3.models import *\n",
    "\n",
    "# Kreiranje modela\n",
    "_model = model_1_1_1(theta0_init = 0.5,\n",
    "                     theta1_init = 1.2,\n",
    "                     activation_function = \"Sigmoid\")\n",
    "\n",
    "# Ispis osnovnog opisa modela (inspekcija broja parametara)\n",
    "print_model_summary(model = _model,\n",
    "                   device = \"cpu\",\n",
    "                   input_dim = (1,1))"
   ]
  },
  {
   "cell_type": "code",
   "execution_count": null,
   "id": "738000b7-c4d8-4714-af84-192f46d216ec",
   "metadata": {},
   "outputs": [],
   "source": [
    "# Iscrtavanje grafa modela (inspekcija povezanosti slojeva)\n",
    "plot_graph(model = _model,\n",
    "           device = \"cpu\",\n",
    "           input_dim = (1,1))"
   ]
  },
  {
   "cell_type": "markdown",
   "id": "5417ecd1-9bc0-4826-a1ff-6c6b5b000f6d",
   "metadata": {},
   "source": [
    "---"
   ]
  },
  {
   "cell_type": "markdown",
   "id": "ac0219cb-1eb7-4c9e-b963-3aba333921b5",
   "metadata": {},
   "source": [
    "## Više neurona\n",
    "\n",
    "Sam naziv neuronska mreža upućuje na više neurona koji zajedno doprinose boljoj predikciji. Tako primjerice možemo kreirati iduću neuronsku mrežu\n",
    "\n",
    "<center><img src=\"Images/V3_neural_network.png\" width=\"700\" height=\"700\"/></center>\n",
    "\n",
    "Izračuni svakog skrivenog neurona je sljedeći:\n",
    "\n",
    "   \n",
    "$\n",
    "h_1 = \\theta_{11} + \\theta_{10} \\cdot x\n",
    "$\n",
    "\n",
    "$\n",
    "h_2 = \\theta_{21} + \\theta_{20} \\cdot x\n",
    "$\n",
    "\n",
    "$\n",
    "h_3 = \\theta_{31} + \\theta_{30} \\cdot x\n",
    "$\n",
    "\n",
    "Potom vršimo aktivaciju (primjerice ReLU):\n",
    "\n",
    "$\n",
    "a_1 = ReLU(_h1)\n",
    "$\n",
    "\n",
    "$\n",
    "a_2 = ReLU(_h2)\n",
    "$\n",
    "\n",
    "$\n",
    "a_3 = ReLU(_h3)\n",
    "$\n",
    "\n",
    "Na kraju računamo izlaz\n",
    "\n",
    "$\n",
    "y = \\phi_0 +  \\phi_1 \\cdot a_1 + \\phi_2 \\cdot a_2 + \\phi_3 \\cdot a_3 \n",
    "$\n",
    "\n",
    "---\n",
    "\n",
    "<font color='red'>\n",
    "    \n",
    "## Zadatak\n",
    "\n",
    "<left><img src=\"Images/Zadatak.png\" width=\"70\" height=\"70\"/></left>\n",
    "\n",
    "</font>\n",
    "\n",
    "Idući prokramski kod omogućava pregled konačnog izgleda te inspekciju svakog koraka navedene neuronske mreže. Vaš je zadatak:\n",
    "\n",
    "* Dovršite implmentaciju neuronske mreže. **(Klasa model_1_3_1 )**!\n",
    "* Provjerite koliki je broj parametara neuronske mreže te protumačite njezin graf.\n",
    "* Pokušajte stvoriti bolju neuronsku mrežu i odgovorite na pitanje je li aktivacijska funkcija nužna?\n",
    "* Stvorite si intuiciju oko relacije parametara i konačne funkcije."
   ]
  },
  {
   "cell_type": "code",
   "execution_count": null,
   "id": "db8814be-0c62-4986-9184-5833c01984fa",
   "metadata": {},
   "outputs": [],
   "source": [
    "# Iscrajmo graf sa nekom aktivacijskom funkcijom\n",
    "# Knjižnice\n",
    "from Skripte.Vjezba3.models import *\n",
    "\n",
    "\n",
    "#  Postavljanje parametara\n",
    "_theta_init = np.array([[0.0, 1.0],\n",
    "                       [0.5, 2.0],\n",
    "                       [-0.3, -1.0]], dtype=float)   # (3,2)\n",
    "\n",
    "_psi_init   = np.array([1.0, 0.8, -0.2, 0.5], dtype=float)  # (4,)\n",
    "\n",
    "_model = model_1_3_1(theta_init_matrix = _theta_init,\n",
    "                      psi_init_matrix = _psi_init,\n",
    "                      activation_function = \"Sigmoid\")\n",
    "\n",
    "# Ispis osnovnog opisa modela (inspekcija broja parametara)\n",
    "print_model_summary(model = _model,\n",
    "                   device = \"cpu\",\n",
    "                   input_dim = (1,1))"
   ]
  },
  {
   "cell_type": "code",
   "execution_count": null,
   "id": "694cc036-5be9-40ca-ae64-6cf7d7871c64",
   "metadata": {},
   "outputs": [],
   "source": [
    "# Iscrtavanje grafa modela (inspekcija povezanosti slojeva)\n",
    "plot_graph(model = _model,\n",
    "           device = \"cpu\",\n",
    "           input_dim = (1,1))"
   ]
  },
  {
   "cell_type": "code",
   "execution_count": null,
   "id": "20506e59-e290-49bd-ab1d-0de4eee7a5c4",
   "metadata": {},
   "outputs": [],
   "source": [
    "# Učitavanje programke knjižice\n",
    "from Skripte.Vjezba3.plot import create_model_1_3_1_widget\n",
    "create_model_1_3_1_widget()"
   ]
  },
  {
   "cell_type": "markdown",
   "id": "80a3fa32-8639-4996-bbc9-725d909dfe90",
   "metadata": {},
   "source": [
    "---"
   ]
  },
  {
   "cell_type": "markdown",
   "id": "b17ad241-dea9-4200-9945-963410321f49",
   "metadata": {},
   "source": [
    "<font color='red'>\n",
    "    \n",
    "## Zadatak\n",
    "\n",
    "<left><img src=\"Images/Zadatak.png\" width=\"70\" height=\"70\"/></left>\n",
    "\n",
    "</font>\n",
    "\n",
    "Steknite intuiciju oko parametara funkcije."
   ]
  },
  {
   "cell_type": "code",
   "execution_count": null,
   "id": "94a46304-260b-43bf-b0c7-0c52e000d740",
   "metadata": {
    "scrolled": true
   },
   "outputs": [],
   "source": [
    "from Skripte.Vjezba3.plot import create_model_1_3_1_component_plots_widget\n",
    "create_model_1_3_1_component_plots_widget(device=\"cpu\")"
   ]
  },
  {
   "cell_type": "markdown",
   "id": "6aca97c7-2c50-405e-a50f-525e123e1cc4",
   "metadata": {},
   "source": [
    "---"
   ]
  },
  {
   "cell_type": "markdown",
   "id": "a43607ce-a960-4b1b-8557-5b0d8ecf45f5",
   "metadata": {},
   "source": [
    "<font color='red'>\n",
    "    \n",
    "## Zadatak\n",
    "\n",
    "<left><img src=\"Images/Zadatak.png\" width=\"70\" height=\"70\"/></left>\n",
    "\n",
    "</font>\n",
    "\n",
    "Kreirajte dataloader koji vraća dva ulazna podataka i jedan izlazan. Trenutni dataloader vraća jedan ulazni i jedan izlazni podatak."
   ]
  }
 ],
 "metadata": {
  "kernelspec": {
   "display_name": "Python 3 (ipykernel)",
   "language": "python",
   "name": "python3"
  },
  "language_info": {
   "codemirror_mode": {
    "name": "ipython",
    "version": 3
   },
   "file_extension": ".py",
   "mimetype": "text/x-python",
   "name": "python",
   "nbconvert_exporter": "python",
   "pygments_lexer": "ipython3",
   "version": "3.12.11"
  }
 },
 "nbformat": 4,
 "nbformat_minor": 5
}
