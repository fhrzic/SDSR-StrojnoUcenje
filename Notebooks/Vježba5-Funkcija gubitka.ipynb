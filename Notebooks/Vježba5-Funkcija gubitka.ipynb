{
 "cells": [
  {
   "cell_type": "markdown",
   "id": "59c1e16d-9636-4228-a9f1-1d402a698350",
   "metadata": {},
   "source": [
    "# Funkcija gubitka \n",
    "\n",
    "<center><img src=\"Images/V5_banner.png\" width=\"700\" height=\"700\"/></center>\n",
    "\n",
    "U drugoj vježbi pokazano je da se rješenje većine problema strojnog učenja može svesti na \n",
    "\n",
    "* Ulazne podatke \n",
    "\n",
    "* Odabir modela \n",
    "\n",
    "* **Funkcija cilja**\n",
    "\n",
    "* Optimizacija modela\n",
    "\n",
    "Funkcija cilja, odnosno funkcija gubitka, ili funkcija dobitka, pa čak i funkcija dobrote označava mjeru kojom mjerimo uspješnost modela te se optimizacijom dovodi u svoj minimum ili maksimum (ovisno o problemu). Do sada smo se upoznali sa metodom najmanjih kvadrata kao funkcijom cilja, a kroz ovu vježbu fokus će biti postavljen na drugim funkcijama cilja i njihovom modeliranju.\n",
    "\n",
    "---\n",
    "\n",
    "## Modeliranje funkcije cilja\n",
    "\n",
    "Svaki skup podataka u učenju pod nadzorom može se prikazati kao skup parova $(x_i, y_i)$ pri čemu je $i \\in N$ i predstavlja prikupljeni skup podataka. Stoga za neki model koji se može prikazati kao funkcija $f[x, \\phi]$ vrijedi preslikavanje $\\hat{y_i} = f(x, \\theta)$ pri čemu je $\\hat{y_i}$ aproksimacija $y_i$ vrijednosti. Promatrajući $y_i$ - dakle stvarnu vrijednost, ona mora imati visoku vjerojatnost unutar svoje distribucije $Pr(y_i|\\theta_i)$. Odnosno, cilj je optimizirati parametre $\\phi$ tako da se maximizira kombinirana distribucija $Pr(y_i|x_i)$ za sve uzorke unutar skupa podataka:\n",
    "\n",
    "\\begin{align}\n",
    "\\hat{\\phi}\n",
    "&= \\arg\\max_{\\phi} \\left[ \\prod_{i=1}^{I} \\Pr(y_i \\mid x_i) \\right] \\\\\n",
    "&= \\arg\\max_{\\phi} \\left[ \\prod_{i=1}^{I} \\Pr(y_i \\mid \\theta_i) \\right] \\\\\n",
    "&= \\arg\\max_{\\phi} \\left[ \\prod_{i=1}^{I} \\Pr\\!\\big(y_i \\mid f(x_i,\\phi)\\big) \\right]\n",
    "\\end{align}\n",
    "\n",
    "Budući da tražimo najbolje parametere koji će dati optimalne rezultate, kaže se da tražimo *maximum likelihood*, pritom imamo dvije pretpostavke:\n",
    "\n",
    "1. Podaci dolaze iz iste distribucije,\n",
    "2. Uvjetna vjerojantnost $Pr(y_i|x_i)$ je nezavizna s obzirom na dani ulazni podatak (jedan uzorak ne utječe na drugi), odnosno vrijedi dekompozicija:\n",
    "\n",
    "\\begin{align}\n",
    "Pr(y_1, y_2, \\ldots, y_I \\mid x_1, x_2, \\ldots, x_I)\n",
    "= \\prod_{i=1}^{I} Pr(y_i \\mid x_i).\n",
    "\\end{align}\n",
    "\n",
    "---\n",
    "\n",
    "<font color='green'>\n",
    "    \n",
    "## Primjer\n",
    "\n",
    "<left><img src=\"Images/Zadatak.png\" width=\"70\" height=\"70\"/></left>\n",
    "\n",
    "</font>\n",
    "\n",
    "\n",
    "Sljedeći programski kod demonstira vizualno predikciju distribucije na regresijskom problemu **bike_rental** skupa podataka. Za svako vrijednost $x$ model predviđa distribuciju $P(y|x)$ u skupu $y \\in \\mathbb{R}$ Proučite kako se parametar mijenja u ovisnosti o promjeni vrijednosti x. Za aproksimaciju je postavljena Normalna distribucija. Minimizacija funkcije cilja zapravo znači maksimiziranje vjerojatnosti istinitih podataka $y_i$ za danu distribuciju definiranu putem odgovarajućih ulaznih podataka $x_i$."
   ]
  },
  {
   "cell_type": "code",
   "execution_count": 3,
   "id": "02618cbb-6787-46dd-a0b7-11874d7ecf83",
   "metadata": {},
   "outputs": [
    {
     "name": "stdout",
     "output_type": "stream",
     "text": [
      "The autoreload extension is already loaded. To reload it, use:\n",
      "  %reload_ext autoreload\n"
     ]
    }
   ],
   "source": [
    "# Autoreload\n",
    "%load_ext autoreload\n",
    "%autoreload 2\n",
    "\n",
    "# Pokretanje skripte \n",
    "from Skripte.Vjezba5.dataloader import inspect_dataset\n",
    "from Skripte.Vjezba5.plot import create_scatter_x_band_widget\n"
   ]
  },
  {
   "cell_type": "code",
   "execution_count": 2,
   "id": "24cf3e7c-b98c-45ac-948b-1d63ed583b98",
   "metadata": {},
   "outputs": [
    {
     "data": {
      "application/vnd.jupyter.widget-view+json": {
       "model_id": "93fbeff094c04c37aa5062710bf2498d",
       "version_major": 2,
       "version_minor": 0
      },
      "text/plain": [
       "VBox(children=(Label(value='Odaberi numerički x i širinu pojasa (σ). Desno: Pr(y|x) kao Normalna krivulja (osj…"
      ]
     },
     "metadata": {},
     "output_type": "display_data"
    }
   ],
   "source": [
    "create_scatter_x_band_widget(path_to_csv = \"Skripte/Vjezba5/day_bikes_rental.csv\")"
   ]
  },
  {
   "cell_type": "markdown",
   "id": "e8a0bfb7-6e5d-454d-9c48-8dac51211fd6",
   "metadata": {},
   "source": [
    "## Maximum likelihood, log-liklihood, minimizacija log-liklihood-a\n",
    "\n",
    "Maximum likelihood predstavljen u prethodnoj formuli ima jednu veliku manu, a to je da se računa putem množenja distribucija vjerojatnosti po svim točkama ulaznog skupa podataka što može rezultirati izrazito malim vrijednostima -- koje u računalu mogu nestati zbog reprezentacije decimalnih brojeva u memoriji. Kako bi se riješio ovaj problem, primjenjuje se logaritamska funkcija te se stvara **log-likelihood** estimacija:\n",
    "\n",
    "\n",
    "\\begin{aligned}\n",
    "\\hat{\\phi}\n",
    "&= \\arg\\max_{\\phi} \\left[ \\prod_{i=1}^{I} \\Pr(y_i \\mid f(x_i,\\phi)) \\right] \\\\\n",
    "&= \\arg\\max_{\\phi} \\left[ \\log \\left( \\prod_{i=1}^{I} \\Pr(y_i \\mid f(x_i,\\phi)) \\right) \\right] \\\\\n",
    "&= \\arg\\max_{\\phi} \\left[ \\sum_{i=1}^{I} \\log \\Pr(y_i \\mid f(x_i,\\phi)) \\right]\n",
    "\\end{aligned}\n",
    "\n",
    "---\n",
    "\n",
    "<font color='red'>\n",
    "    \n",
    "## Zadatak\n",
    "\n",
    "<left><img src=\"Images/Zadatak.png\" width=\"70\" height=\"70\"/></left>\n",
    "\n",
    "</font>\n",
    "\n",
    "Navedite svojstva logaritamske *log(x)* funkcije te pokažite kako ista funkcija djeluje na neku drugu funkciju. Što se mijenja a što ostaje isto?. Koja su svojstva logaritamske funkcije? Nacrtajte funkciju!\n",
    "\n",
    "<font color='green'>\n",
    "\n"
   ]
  },
  {
   "cell_type": "code",
   "execution_count": null,
   "id": "6a9231bb-b58f-441b-81d3-7b7e46e836d3",
   "metadata": {},
   "outputs": [],
   "source": [
    "# Knjižnice\n",
    "import numpy as np\n",
    "import matplotlib.pyplot as plt\n",
    "# Kod za logaritamsku funkciju. \n",
    "\n",
    "# x-domena -1-1, neka funkcija f koja zavisi o x-u, logaritamska funkcija od y-na dakle log(f(x))"
   ]
  },
  {
   "cell_type": "markdown",
   "id": "cddee38a-4d67-43fe-a200-e58d239f8c5b",
   "metadata": {},
   "source": [
    "---\n",
    "#### Što Model predviđa?"
   ]
  },
  {
   "cell_type": "markdown",
   "id": "c61582e0-ae7b-44db-9e64-9010af81fa2b",
   "metadata": {},
   "source": [
    "## Primjer\n",
    "\n",
    "<left><img src=\"Images/Primjer.png\" width=\"70\" height=\"70\"/></left>\n",
    "\n",
    "</font>\n",
    "\n",
    "Za početak, pokrenite idući kod koji ima sve parametre fiksirane na neku vrijednost osim $\\psi_0$ - bias parametra kojeg možemo podeštavati. Isto tako može se prilagođavati $\\sigma$ vrijednost koja pokazuje određenu neizvjesnost oko predviđanja modela. Dakle, model zapravo predviđa $\\mu$ distribucije za dani podata uz pretpostavku da je $\\sigma$ konstanta (ona se ne predviđa niti računa).\n",
    "\n"
   ]
  },
  {
   "cell_type": "code",
   "execution_count": 4,
   "id": "396ce6cf-a3b9-444b-b37f-2b41cc837551",
   "metadata": {},
   "outputs": [
    {
     "name": "stdout",
     "output_type": "stream",
     "text": [
      "The autoreload extension is already loaded. To reload it, use:\n",
      "  %reload_ext autoreload\n"
     ]
    },
    {
     "data": {
      "application/vnd.jupyter.widget-view+json": {
       "model_id": "b7be720738ee4d2084d6a928b0298634",
       "version_major": 2,
       "version_minor": 0
      },
      "text/plain": [
       "VBox(children=(Label(value='Adjust ψ₀ and σ below:'), FloatSlider(value=0.0, description='ψ₀:', max=1.0, min=-…"
      ]
     },
     "metadata": {},
     "output_type": "display_data"
    }
   ],
   "source": [
    "# Autoreload\n",
    "%load_ext autoreload\n",
    "%autoreload 2\n",
    "\n",
    "# Pokretanje skripte \n",
    "from Skripte.Vjezba5.plot import model_over_dataloader_widget\n",
    "#inspect_dataset(\"Skripte/Vjezba3/day_bikes_rental.csv\")\n",
    "\n",
    "model_over_dataloader_widget(\"Skripte/Vjezba5/day_bikes_rental.csv\")"
   ]
  },
  {
   "cell_type": "markdown",
   "id": "6cedbb6d-8eda-4ecd-a213-930ee640d90a",
   "metadata": {},
   "source": [
    "### Usporedba maximum likelihood, negative loglikelihood i least squares loss\n",
    "\n",
    "<font color='red'>\n",
    "    \n",
    "## Zadatak\n",
    "\n",
    "<left><img src=\"Images/Zadatak.png\" width=\"70\" height=\"70\"/></left>\n",
    "\n",
    "</font>\n",
    "\n",
    "U skripti **Skripte/loss_funkcije.py** možete pronaći sljedeće funkcije koje je potrebno implementirati:\n",
    "\n",
    "* *compute_sum_of_squares* -- implementira iduću jednadžbu: $L[\\phi] = \\sum_{i=1}^{I} \\left( y_i - f(x_i, \\phi) \\right)^2$ gdje vrijedi $\\hat{y_i} = f(x_i, \\phi)$. Metoda računa razliku kvadrata predikcija i istinitih oznaka. \n",
    "\n",
    "* *compute_likelihood* -- implementira maximum likelihood koji je dan jednadžbom: $cl: \\left[ \\prod_{i=1}^{I} \\Pr\\!\\big(y_i \\mid f(x_i,\\phi)\\big) \\right]$ pri čemu za aproksimaciju $Pr(\\cdot)$ koristimo Normalnu univariatnu distirbuciju (Gaussova distribucija): $\\Pr(y_i \\mid x_i, \\phi)\n",
    "= \\frac{1}{\\sqrt{2\\pi}\\,\\sigma}\n",
    "  \\exp\\!\\left(\n",
    "    -\\frac{\\big(y_i - f(x_i,\\phi)\\big)^2}{2\\sigma^2}\n",
    "  \\right)$ pri čemu vrijedi $\\mu = f(x_i,\\phi)$ i $\\sigma$ je postavljena na konstantnu vrijednost, stoga se može pisati i $\\Pr(y_i \\mid x_i, \\phi) = \\Pr(y_i | \\mu, \\sigma)$.\n",
    "\n",
    "* *compute_negative_log_likelihood* - implementira sljedeću jednadžbu: $nll = \\left[ - \\sum_{i=1}^{I} \\log \\Pr(y_i \\mid f(x_i,\\phi)) \\right]$ pri čemu se $f(x_i,\\phi)$ estimira pomoću Gaussove distribucije.\n",
    "\n",
    "* *normal_distribution* je normalna gausova distribucija dana jednadžbom:\n",
    "$\\mathcal{N}(y \\mid \\mu, \\sigma^2)\n",
    "= \\frac{1}{\\sqrt{2\\pi\\,\\sigma^2}}\n",
    "  \\exp\\!\\left(\n",
    "    -\\frac{(y - \\mu)^2}{2\\sigma^2}\n",
    "  \\right)$\n",
    "pri čemu vrijedi: $\\Pr(y_i \\mid x_i, \\phi)\n",
    "= \\frac{1}{\\sqrt{2\\pi}\\,\\sigma}\n",
    "  \\exp\\!\\left(\n",
    "    -\\frac{\\left(y_i - f(x_i,\\phi)\\right)^2}{2\\sigma^2}\n",
    "  \\right)$ odnosno explicitno ako se koristi srednja vrijednost: $\\Pr(y \\mid \\hat{y}, \\sigma)\n",
    "= \\frac{1}{\\sqrt{2\\pi}\\,\\sigma}\n",
    "  \\exp\\!\\left(\n",
    "    -\\frac{(y - \\hat{y})^2}{2\\sigma^2}\n",
    "  \\right)$.\n",
    "\n",
    "\n",
    "Sljedeći programski kod će ispitati rade li Vaše implementacije funkcija ispravno.\n",
    "\n",
    "---"
   ]
  },
  {
   "cell_type": "code",
   "execution_count": 10,
   "id": "88fdbd12-537d-479e-a0d9-f7a4569305da",
   "metadata": {},
   "outputs": [
    {
     "name": "stdout",
     "output_type": "stream",
     "text": [
      "Sum of Squares: correct answer = 28.402, Your answer =  0.000\n",
      "Likelihood: correct answer = 0.000000001601738, Your answer = 0.000000000000000\n",
      "Negative log likelihood: correct answer = 20.252, Your answer =  0.000\n"
     ]
    }
   ],
   "source": [
    "# Učitavanje knjižica\n",
    "from Skripte.Vjezba5.loss_funkcije import compute_likelihood, compute_sum_of_squares, compute_negative_log_likelihood\n",
    "from Skripte.Vjezba5.dataloader import *\n",
    "from Skripte.Vjezba5.models import *\n",
    "import numpy as np\n",
    "\n",
    "# Prikupljanje podataka\n",
    "_dataset = bikeRentalDataset(path_to_csv=\"Skripte/Vjezba5/day_bikes_rental.csv\",\n",
    "                                 input_label=\"temp\",\n",
    "                                 target_label=\"cnt\",\n",
    "                                 normalizacija=True)\n",
    "\n",
    "_dataloader = ordinary_dataloader(dataset=_dataset, batch_size=1)\n",
    "\n",
    "# Model\n",
    "_model = model_1_3_1(psi0 = 0.202)\n",
    "\n",
    "# Učitavanje svih podataka u y i x te predikcija modela\n",
    "_xs, _ys, _mu_pred = [], [], []\n",
    "for _x_batch, _y_batch in _dataloader:\n",
    "    _mu_pred.append(float(_model(_x_batch).squeeze().item()))\n",
    "    # očekujemo skalarne tenzore po sample-u → squeeze -> item\n",
    "    _xs.append(float(_x_batch.squeeze().item()))\n",
    "    _ys.append(float(_y_batch.squeeze().item()))\n",
    "\n",
    "_x = np.asarray(_xs, dtype=float)\n",
    "_y_train = np.asarray(_ys, dtype=float)\n",
    "_mu = np.asarray(_mu_pred, dtype=float)\n",
    "\n",
    "# Izracun\n",
    "_sum_of_squares = compute_sum_of_squares(_y_train, _mu)\n",
    "_likelihood = compute_likelihood(_y_train, _mu, sigma=0.35)\n",
    "_nll = compute_negative_log_likelihood(_y_train, _mu, sigma=0.35)\n",
    "# Let's double check we get the right answer before proceeding\n",
    "print(\"Sum of Squares: correct answer = %6.3f, Your answer = %6.3f\"%(28.4023, _sum_of_squares))\n",
    "print(\"Likelihood: correct answer = %6.15f, Your answer = %6.15f\"%(0.000000001601738, _likelihood))\n",
    "print(\"Negative log likelihood: correct answer = %6.3f, Your answer = %6.3f\"%(20.252, _nll))"
   ]
  },
  {
   "cell_type": "markdown",
   "id": "419280fa-71f7-4d5e-95db-c4fb5702b0af",
   "metadata": {},
   "source": [
    "---"
   ]
  },
  {
   "cell_type": "markdown",
   "id": "47e3611b-bbab-4bea-9e0b-10527d681039",
   "metadata": {},
   "source": [
    "## Usporedba funkcija cijena\n",
    "<font color='red'>\n",
    "    \n",
    "## Zadatak\n",
    "\n",
    "<left><img src=\"Images/Zadatak.png\" width=\"70\" height=\"70\"/></left>\n",
    "\n",
    "</font>\n",
    "\n",
    "Bitno je uočiti da u prethodnom programskom kodu model (1-3-1 neuronska mreža) je imao sve parametre fiksirane uključujući i $\\psi_0 = 0.202$. Sljedeći programski kod koristi vaše implementirane funkcije gubitka i iscrtava ih za različite vrijednosti parametra $\\psi_0 \\in \\left[-1,1\\right]$.\n",
    "\n",
    "Proučite dobivene krivulje funkcije gubitka te iznesite opažanja. Koje funkcije maksimiziramo a koje minimiziramo i zašto?\n",
    "Objasnite korake u kreiranju vlasite funkcije gubitka:\n",
    "\n",
    "1. Odabir prikladne distibucije $Pr(y|\\Theta)$ koja definira domenu $y$ temeljem parametara $\\Theta$.\n",
    "2. Postavljanje modela $f[x,\\phi]$ koji uči parametre $\\Theta$ tako da vrijedi $\\Theta=f[x,\\phi]$, $Pr(y|\\Theta) = Pr(y|f[x,\\phi])$\n",
    "3. Treniranje modela koji minimizira negativni log-likelihood: $\\hat{\\phi}\n",
    "=\\arg\\min_{\\phi} \\left[ L[\\phi] \\right] \n",
    "= \\arg\\min_{\\phi} \\left[ - \\sum_{i=1}^{I} \\log \\Pr(y_i \\mid f(x_i,\\phi)) \\right]$.\n",
    "4. Kako bi predđali vrijednost na novom uzorku $x_{i+1}$ vraćamo cijelu distribuciju Pr(y|f[x,\\hat{\\phi}]) ili samo maksimum te distribucije.\n",
    "\n",
    "I za kraj, možemo li učiti parametar $\\sigma$? Kako se to reflektira na graf iz prethodnog primjera?"
   ]
  },
  {
   "cell_type": "code",
   "execution_count": 9,
   "id": "5b0846e6-98df-4d43-a5a0-05caa7306b88",
   "metadata": {},
   "outputs": [
    {
     "name": "stdout",
     "output_type": "stream",
     "text": [
      "Best values:\n",
      "  SSE:  best ψ₀ = -1.0000,  SSE = 0.000000\n",
      "  L  :  best ψ₀ = -1.0000,  L   = 0.000000e+00\n",
      "  NLL:  best ψ₀ = -1.0000,  NLL = 0.000000\n"
     ]
    },
    {
     "data": {
      "image/png": "[encoded data removed]",
      "text/plain": [
       "<Figure size 1500x400 with 3 Axes>"
      ]
     },
     "metadata": {},
     "output_type": "display_data"
    }
   ],
   "source": [
    "# Pokretanje skripte \n",
    "from Skripte.Vjezba5.plot import plot_losses_over_psi0\n",
    "\n",
    "plot_losses_over_psi0(path_to_csv = \"Skripte/Vjezba5/day_bikes_rental.csv\")"
   ]
  },
  {
   "cell_type": "markdown",
   "id": "e5744653-6a77-47d1-aa66-b8bff12f8027",
   "metadata": {},
   "source": [
    "---\n",
    "## Binary Cross Entropy loss\n",
    "\n",
    "<center><img src=\"Images/V5_diabetes.png\" width=\"700\" height=\"700\"/></center>\n",
    "\n",
    "\n",
    "Do sada smo promatrali regresijski problem u kojem je predviđana vrijednost kontinuirana varijabla. Puno problema iz stvarnog svijeta može se svesti na binarnu klasifikaciju. **Binarna klasifikacija** označava skupinu problema u kojima je izlazna varijabla $y \\in \\{0,1\\}$. Dakle tumačenje može biti da je neko promatrano stanje prisutno ili ne, odnosno pozitivno ili negativno, ili da imamo samo dvije klase koje se mogu prezentirati kao 0 ili 1.\n",
    "\n",
    "Prilikom modeliranja regresije kao ciljana distribucija svake varijable postavila se Gaussova distribucija (Normalna razdioba) što u slučaju binarne klasifikacije nije moguće. Naime, kako postoje samo dva stanja, što zorno prikazuje i idući primjer, potrebno je upotrijebiti neku drugu distribuciju za modeliranje izlaza. \n",
    "\n",
    "Stoga, kako bi se prethodno rješenje prilagodilo binarnoj klasifikaciji potrebno je primjeniti sljdeće dvije promjene:\n",
    "\n",
    "1. Promjena distribucije iz Normalne u Bernulijevu\n",
    "2. Limitiranje izlaza neuronske mreže na interval $\\hat{y} \\in \\{ 0-1 \\}$ pomoću sigmoidne funkcije.\n",
    "\n",
    "---\n",
    "\n",
    "## Primjer\n",
    "\n",
    "<left><img src=\"Images/Primjer.png\" width=\"70\" height=\"70\"/></left>\n",
    "\n",
    "</font>\n",
    "\n",
    "Sljedeći programski kod implementira \"diabetes_dataset.csv\" koji je dostupan na [poveznici](https://www.kaggle.com/datasets/saurabh00007/diabetescsv). Proučite relacije varijabli i odaberite ulaznu i izlaznu varijablu.\n"
   ]
  },
  {
   "cell_type": "code",
   "execution_count": 11,
   "id": "4dda76fe-2b94-414f-a396-f7e02446533e",
   "metadata": {},
   "outputs": [
    {
     "name": "stdout",
     "output_type": "stream",
     "text": [
      "/home/franko/Desktop/Nastava2025_2026/StrojnoUčenje/SDSR-StrojnoUcenje/Notebooks/Skripte/Vjezba3\n",
      "Label      Udio     Missing        Vrijednosti(5)\n",
      "*****************************************************************\n",
      "age: 100000 / 100000 (missing: 0) (Vales: [58 48 60 74 46])\n",
      "gender: 100000 / 100000 (missing: 0) (Vales: ['Male' 'Female' 'Other'])\n",
      "ethnicity: 100000 / 100000 (missing: 0) (Vales: ['Asian' 'White' 'Hispanic' 'Black' 'Other'])\n",
      "education_level: 100000 / 100000 (missing: 0) (Vales: ['Highschool' 'Graduate' 'Postgraduate' 'No formal'])\n",
      "income_level: 100000 / 100000 (missing: 0) (Vales: ['Lower-Middle' 'Middle' 'Low' 'Upper-Middle' 'High'])\n",
      "employment_status: 100000 / 100000 (missing: 0) (Vales: ['Employed' 'Unemployed' 'Retired' 'Student'])\n",
      "smoking_status: 100000 / 100000 (missing: 0) (Vales: ['Never' 'Former' 'Current'])\n",
      "alcohol_consumption_per_week: 100000 / 100000 (missing: 0) (Vales: [0 1 2 3 6])\n",
      "physical_activity_minutes_per_week: 100000 / 100000 (missing: 0) (Vales: [215 143  57  49 109])\n",
      "diet_score: 100000 / 100000 (missing: 0) (Vales: [5.7 6.7 6.4 3.4 7.2])\n",
      "sleep_hours_per_day: 100000 / 100000 (missing: 0) (Vales: [ 7.9  6.5 10.   6.6  7.4])\n",
      "screen_time_hours_per_day: 100000 / 100000 (missing: 0) (Vales: [7.9 8.7 8.1 5.2 5. ])\n",
      "family_history_diabetes: 100000 / 100000 (missing: 0) (Vales: [0 1])\n",
      "hypertension_history: 100000 / 100000 (missing: 0) (Vales: [0 1])\n",
      "cardiovascular_history: 100000 / 100000 (missing: 0) (Vales: [0 1])\n",
      "bmi: 100000 / 100000 (missing: 0) (Vales: [30.5 23.1 22.2 26.8 21.2])\n",
      "waist_to_hip_ratio: 100000 / 100000 (missing: 0) (Vales: [0.89 0.8  0.81 0.88 0.78])\n",
      "systolic_bp: 100000 / 100000 (missing: 0) (Vales: [134 129 115 120  92])\n",
      "diastolic_bp: 100000 / 100000 (missing: 0) (Vales: [78 76 73 93 67])\n",
      "heart_rate: 100000 / 100000 (missing: 0) (Vales: [68 67 74 57 81])\n",
      "cholesterol_total: 100000 / 100000 (missing: 0) (Vales: [239 116 213 171 210])\n",
      "hdl_cholesterol: 100000 / 100000 (missing: 0) (Vales: [41 55 66 50 52])\n",
      "ldl_cholesterol: 100000 / 100000 (missing: 0) (Vales: [160  50  99  79 125])\n",
      "triglycerides: 100000 / 100000 (missing: 0) (Vales: [145  30  36 140 160])\n",
      "glucose_fasting: 100000 / 100000 (missing: 0) (Vales: [136  93 118 139 137])\n",
      "glucose_postprandial: 100000 / 100000 (missing: 0) (Vales: [236 150 195 253 184])\n",
      "insulin_level: 100000 / 100000 (missing: 0) (Vales: [ 6.36  2.    5.07  5.28 12.74])\n",
      "hba1c: 100000 / 100000 (missing: 0) (Vales: [8.18 5.63 7.51 9.03 7.2 ])\n",
      "diabetes_risk_score: 100000 / 100000 (missing: 0) (Vales: [29.6 23.  44.7 38.2 23.5])\n",
      "diabetes_stage: 100000 / 100000 (missing: 0) (Vales: ['Type 2' 'No Diabetes' 'Pre-Diabetes' 'Gestational' 'Type 1'])\n",
      "diagnosed_diabetes: 100000 / 100000 (missing: 0) (Vales: [1 0])\n"
     ]
    },
    {
     "data": {
      "application/vnd.jupyter.widget-view+json": {
       "model_id": "4041d9471a1e47e6b46b070727a8d73c",
       "version_major": 2,
       "version_minor": 0
      },
      "text/plain": [
       "VBox(children=(HBox(children=(Dropdown(description='X (var1):', layout=Layout(width='300px'), options=('age', …"
      ]
     },
     "metadata": {},
     "output_type": "display_data"
    }
   ],
   "source": [
    "# Knjižnice\n",
    "from Skripte.Vjezba3.plot import create_bike_correlation_widget\n",
    "inspect_dataset(\"Skripte/Vjezba5/diabetes_dataset.csv\")\n",
    "# Widget start\n",
    "create_bike_correlation_widget(path_to_csv = \"Skripte/Vjezba5/diabetes_dataset.csv\")"
   ]
  },
  {
   "cell_type": "markdown",
   "id": "d472beaa-e922-47fb-a92e-da851c63a1ed",
   "metadata": {},
   "source": [
    "## Implementacija Bernulijeve distribucije\n",
    "\n",
    "Motivacija iza odabira Bernulijeve distribucije iz prethodnog primjera je poprilično jasna: postoji neka vjerojatnost koja ovisi o ulaznim parametrima da osoba ili ima ili nema dijebetes. Stoga distribucija koja upravo daje 0 ili 1 sa nekom vjerojatnošću je idealna za modeliranja ovog problema. Bernulijeva jednadžba može se zapisati na sljedeći način:\n",
    "\n",
    "\\begin{align}\n",
    "\\Pr(y \\mid \\lambda) =\n",
    "\\begin{cases}\n",
    "1 - \\lambda, & y = 0,\\\\[4pt]\n",
    "\\lambda, & y = 1.\n",
    "\\end{cases}\n",
    "\\end{align}\n",
    "\n",
    "odsnosno kao jednadžba:\n",
    "\n",
    "\\begin{align}\n",
    "\\Pr(y \\mid \\lambda) = (1 - \\lambda)^{\\,1-y}\\, \\lambda^{\\,y}\n",
    "\\end{align}\n",
    "\n",
    "Implementirana neuronska mreža ($f[x, \\phi]$) do sada je predviđala $\\hat{y}$ u nedefiniranom intervalu jer Normalna razdioba može biti nad bilo kojim intervalom. Sada je potrebno limitirati izlaz neuronske mreže na interval Bernulijeve razdiobe što se elegatno može postići primjenom sigmoidne funkcije na izlaz neuronske mreže:\n",
    "\n",
    "\\begin{align}\n",
    "\\sigma = \\text{sig}[z] = \\frac{1}{1 + e^{-z}}\n",
    "\\end{align}\n",
    "\n",
    "Dakle, predviđa se parametar $\\lambda$ pa vrijedi sljedeća jednadžba:\n",
    "\n",
    "\\begin{align}\n",
    "\\Pr(y \\mid \\mathbf{x}) = (1 - \\text{sig}(f[\\mathbf{x},\\phi]))^{\\,1-y} \\cdot (\\text{sig}(f[\\mathbf{x},\\phi]))^{\\,y}\n",
    "\\end{align}\n",
    "\n",
    "Ukoliko na istu primjenimo negativni log-likelihood dobivamo sljedeću formulaciju, odnosno funkciju cilja:\n",
    "\n",
    "\\begin{align}\n",
    "L[\\phi] = \\sum_{i=1}^{I} \\left[\n",
    "-(1 - y_i)\\log\\left(1 - \\text{sig}(f[\\mathbf{x}_i,\\phi])\\right)\n",
    "- y_i \\log\\left(\\text{sig}(f[\\mathbf{x}_i,\\phi])\\right)\n",
    "\\right]\n",
    "\\end{align}\n",
    "\n",
    "Uočite da $y_i \\in \\{0,1\\}$ što znači da se uvijek samo jedan dio sume izvršava.\n",
    "\n",
    "---\n",
    "\n"
   ]
  },
  {
   "cell_type": "markdown",
   "id": "d82891d1-5588-44a9-9315-1e1e0d3ba0c7",
   "metadata": {},
   "source": [
    "## Implementacija\n",
    "\n",
    "<font color='red'>\n",
    "    \n",
    "## Zadatak\n",
    "\n",
    "<left><img src=\"Images/Zadatak.png\" width=\"70\" height=\"70\"/></left>\n",
    "\n",
    "</font>\n",
    "\n",
    "U skripti **/Skripte/Vjezba5/loss_funkcije_binarne.py** potrebno je implemenitrati sljedeće funkcije:\n",
    "\n",
    "* *sigmoid* -- implementira jednadžbu sigmoid funkcije: $\\sigma = \\text{sig}[z] = \\frac{1}{1 + e^{-z}}$. Također izračunajte na papiru derivaciju ove funkcije.\n",
    "\n",
    "* *bernoulli_distribution* -- implementira bernulijevu distribuciju: $\\Pr(y \\mid \\lambda) = (1 - \\lambda)^{\\,1-y}\\, \\lambda^{\\,y}$\n",
    "\n",
    "* *compute_likelihood_b* -- implementira likelihood: $cl: \\left[ \\prod_{i=1}^{I} \\Pr\\!\\big(y_i \\mid f[x_i,\\phi]\\big) \\right]$ pri čemu za aproksimaciju $Pr(\\cdot)$ koristimo Bernulijevu distribuciju:  $\\Pr(y \\mid \\lambda) = (1 - \\lambda)^{\\,1-f[x_i,\\phi]}\\, \\lambda^{\\,f[x_i,\\phi]}$; $f[x_i,\\phi]$ jest izlaz iz modela.\n",
    "\n",
    "\n",
    "* *compute_negative_log_likelihood_b* -- implementira iduću jednadžbu: $L[\\phi] = \\sum_{i=1}^{I} \\left[\n",
    "-(1 - y_i)\\log\\left(1 - \\text{sig}(f[\\mathbf{x}_i,\\phi])\\right)\n",
    "- y_i \\log\\left(\\text{sig}(f[\\mathbf{x}_i,\\phi])\\right)\n",
    "\\right]$\n",
    "\n",
    "Idući kod će provjeriti jeste li uspješno implementirali navedene funkcije."
   ]
  },
  {
   "cell_type": "code",
   "execution_count": 15,
   "id": "8a77d339-f637-4f16-b31d-bb5fe5200356",
   "metadata": {},
   "outputs": [
    {
     "name": "stdout",
     "output_type": "stream",
     "text": [
      "Likelihood: correct answer = 0.000000000000000, Your answer = 0.000000000000000\n",
      "Negative log likelihood: correct answer = 62080.419, Your answer =  0.000\n"
     ]
    }
   ],
   "source": [
    "# Učitavanje knjižica\n",
    "from Skripte.Vjezba5.loss_funkcije_binarne import compute_likelihood_b, compute_negative_log_likelihood_b\n",
    "from Skripte.Vjezba5.dataloader import *\n",
    "from Skripte.Vjezba5.models import *\n",
    "\n",
    "# Prikupljanje podataka hehe ovo radi\n",
    "_dataset = bikeRentalDataset(path_to_csv=\"Skripte/Vjezba5/diabetes_dataset.csv\",\n",
    "                                 input_label=\"glucose_postprandial\",\n",
    "                                 target_label=\"diagnosed_diabetes\",\n",
    "                                 normalizacija=True)\n",
    "\n",
    "_dataloader = ordinary_dataloader(dataset=_dataset, batch_size=1)\n",
    "\n",
    "# Model\n",
    "_model = model_1_3_1_b(psi0 = 0.096, apply_sigmoid = True)\n",
    "\n",
    "# Učitavanje svih podataka u y i x te predikcija modela\n",
    "_xs, _ys, _lambda_pred = [], [], []\n",
    "for _x_batch, _y_batch in _dataloader:\n",
    "    _lambda_pred.append(float(_model(_x_batch).squeeze().item()))\n",
    "    # očekujemo skalarne tenzore po sample-u → squeeze -> item\n",
    "    _xs.append(float(_x_batch.squeeze().item()))\n",
    "    _ys.append(float(_y_batch.squeeze().item()))\n",
    "\n",
    "_x = np.asarray(_xs, dtype=float)\n",
    "_y_train = np.asarray(_ys, dtype=float)\n",
    "_lambda_pred = np.asarray(_lambda_pred, dtype=float)\n",
    "\n",
    "# Izracun\n",
    "_likelihood = compute_likelihood_b(_y_train, _lambda_pred)\n",
    "_nll = compute_negative_log_likelihood_b(_y_train, _lambda_pred)\n",
    "# Let's double check we get the right answer before proceeding\n",
    "print(\"Likelihood: correct answer = %6.15f, Your answer = %6.15f\"%(0.000000000000000, _likelihood))\n",
    "print(\"Negative log likelihood: correct answer = %6.3f, Your answer = %6.3f\"%(62080.419, _nll))"
   ]
  },
  {
   "cell_type": "markdown",
   "id": "2ff7fca0-4ece-41a3-b136-b0174bd6541f",
   "metadata": {},
   "source": [
    "---\n",
    "\n",
    "<font color='red'>\n",
    "    \n",
    "## Zadatak\n",
    "\n",
    "<left><img src=\"Images/Zadatak.png\" width=\"70\" height=\"70\"/></left>\n",
    "\n",
    "</font>\n",
    "\n",
    "Proučite kako parametar $\\psi_0$ utječe na funkciju. Prilikom iscrtavanja NLL i L potrebno je razumjeti da model ne modelira navedeni skup podataka uspješno. Drugim riječima, porebna je dodatna dorada modela. Mjenjajte ostale parametre modela kako bi dobili bolji model. Unatoč lošim performansama, koju funkciju cilja preferirate i zašto?\n"
   ]
  },
  {
   "cell_type": "code",
   "execution_count": 16,
   "id": "24ae8062-c0e6-458b-af67-c8521e6a1e4d",
   "metadata": {},
   "outputs": [
    {
     "data": {
      "application/vnd.jupyter.widget-view+json": {
       "model_id": "69ae70073b8446748089c61c25f6e98a",
       "version_major": 2,
       "version_minor": 0
      },
      "text/plain": [
       "VBox(children=(Label(value='Podesi psi0 i promatraj efekt na model (zelene linije). Desno: y=0.5.'), FloatSlid…"
      ]
     },
     "metadata": {},
     "output_type": "display_data"
    }
   ],
   "source": [
    "from Skripte.Vjezba5.plot import *\n",
    "\n",
    "create_plot_b_widget(path_to_csv = \"Skripte/Vjezba5/diabetes_dataset.csv\")"
   ]
  },
  {
   "cell_type": "code",
   "execution_count": 17,
   "id": "970c3036-dfc2-4e93-8c0a-16dc5be0aab3",
   "metadata": {},
   "outputs": [
    {
     "name": "stdout",
     "output_type": "stream",
     "text": [
      "Best values (Bernoulli):\n",
      "  Likelihood: best ψ₀ = -1.0000,  L   = 0.000000e+00\n",
      "  NLL       : best ψ₀ = -1.0000,  NLL = 0.000000\n"
     ]
    },
    {
     "data": {
      "image/png": "[encoded data removed]",
      "text/plain": [
       "<Figure size 1200x400 with 2 Axes>"
      ]
     },
     "metadata": {},
     "output_type": "display_data"
    }
   ],
   "source": [
    "from Skripte.Vjezba5.plot import *\n",
    "plot_losses_b_over_psi0(\"Skripte/Vjezba5/diabetes_dataset.csv\")"
   ]
  },
  {
   "cell_type": "markdown",
   "id": "5850c475-048c-4ef0-9ce6-716f3c2f7025",
   "metadata": {
    "jp-MarkdownHeadingCollapsed": true
   },
   "source": [
    "---\n",
    "\n",
    "## Višeklasna klasifikacija\n",
    "\n"
   ]
  },
  {
   "cell_type": "markdown",
   "id": "e672ee1e-e507-4631-a2ae-6837b5b827a1",
   "metadata": {},
   "source": [
    "<font color='red'>\n",
    "    \n",
    "## Zadatak\n",
    "\n",
    "<left><img src=\"Images/Zadatak.png\" width=\"70\" height=\"70\"/></left>\n",
    "\n",
    "</font>\n",
    "\n",
    "U višeklasnoj klasifikaciji koristi se sljedeća funkcija gubitka:\n",
    "\n",
    "\\begin{align}\n",
    "L[\\phi]\n",
    "= - \\sum_{i=1}^{I} \\log\\!\\big[\\, \\operatorname{softmax}_{y_i}\\!\\big(\\mathbf{f}[\\mathbf{x}_i,\\phi]\\big) \\big]\n",
    "= - \\sum_{i=1}^{I} \\left( f_{y_i}[\\mathbf{x}_i,\\phi]\n",
    "   - \\log \\sum_{k'=1}^{K} \\exp\\!\\big( f_{k'}[\\mathbf{x}_i,\\phi] \\big) \\right)\n",
    "\\end{align}\n",
    "\n",
    "koja u sebi sadrži softmax funkciju:\n",
    "\n",
    "\\begin{align}\n",
    "\\operatorname{softmax}_k[\\mathbf{z}]\n",
    "= \\frac{\\exp(z_k)}{\\displaystyle \\sum_{k'=1}^{K} \\exp(z_{k'})}\n",
    "\\end{align}\n",
    "\n",
    "Vaš je zadatak proučiti ime funkcije **Cross Entropy** te razumjeti i argumentirati što radi softmax funkcija."
   ]
  }
 ],
 "metadata": {
  "kernelspec": {
   "display_name": "Python 3 (ipykernel)",
   "language": "python",
   "name": "python3"
  },
  "language_info": {
   "codemirror_mode": {
    "name": "ipython",
    "version": 3
   },
   "file_extension": ".py",
   "mimetype": "text/x-python",
   "name": "python",
   "nbconvert_exporter": "python",
   "pygments_lexer": "ipython3",
   "version": "3.12.11"
  }
 },
 "nbformat": 4,
 "nbformat_minor": 5
}
