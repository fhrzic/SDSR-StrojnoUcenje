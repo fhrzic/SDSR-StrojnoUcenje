{
 "cells": [
  {
   "cell_type": "markdown",
   "id": "f32ec2c9-b2b3-430d-8dd0-1595a536dd98",
   "metadata": {},
   "source": [
    "# Duboke neuronske mreže \n",
    "\n",
    "<center><img src=\"Images/V4_banner.png\" width=\"700\" height=\"700\"/></center>\n",
    "\n",
    "Dubokom neuronskom mrežom smatra se neuronska mreža koja ima više skrivenih slojeva povezanih u nizu. Drugim riječima ova neuronska mreža ima izrazito veliki broj parametara koji se nerijetko broji u milijunima. No za početak, potrebno je proučiti što se dešava kada neuronska mreža ima više ulaznih i više izlaznih podataka.\n",
    "\n",
    "---"
   ]
  },
  {
   "cell_type": "markdown",
   "id": "e16043de-829d-4271-b61c-9e62cd2316c9",
   "metadata": {},
   "source": [
    "## Više ulaznih neurona\n",
    "\n",
    "Neuronska mreža tipično nema samo jedan ulazni podataka već više njih. Ulazni podatak također može biti složen poput teksta ili slike te zahtjeva poseban pristup prilikom obrade -- ali o tome će biti više riječi u idućim vježbama.\n",
    "\n",
    "U prethodnoj vježbi potrebno je bilo modificirati **dataloader** kako bi mogao učitati više podataka. Idući programski kod implementira učitavanja i vraćanje dvije ulazne i jedne izlazne varijable za skup podataka **bike_rental**.\n",
    "\n",
    "---\n",
    "\n",
    "<font color='green'>\n",
    "    \n",
    "## Primjer\n",
    "\n",
    "<left><img src=\"Images/Zadatak.png\" width=\"70\" height=\"70\"/></left>\n",
    "\n",
    "</font>\n",
    "\n",
    "Poručite navedeni programski kod i iznesite ključna zapažanja.\n",
    "\n",
    "---\n"
   ]
  },
  {
   "cell_type": "code",
   "execution_count": null,
   "id": "0fd39f68-cdd9-4dd2-b300-16cf1a162679",
   "metadata": {},
   "outputs": [],
   "source": [
    "# Autoreload\n",
    "%load_ext autoreload\n",
    "%autoreload 2\n",
    "\n",
    "# Pokretanje skripte \n",
    "from Skripte.Vjezba4.dataloader import inspect_dataset\n",
    "inspect_dataset(\"Skripte/Vjezba3/day_bikes_rental.csv\")"
   ]
  },
  {
   "cell_type": "code",
   "execution_count": null,
   "id": "6966d8df-e72f-4852-aa57-2e62a85ca2f5",
   "metadata": {},
   "outputs": [],
   "source": [
    "# Učitavanje knjižnice\n",
    "from Skripte.Vjezba4.dataloader import bikeRentalDatasetTwoInputs, ordinary_dataloader\n",
    "\n",
    "# Dataset\n",
    "_dataset = bikeRentalDatasetTwoInputs(path_to_csv = \"Skripte/Vjezba4/day_bikes_rental.csv\",\n",
    "                                      input_label1 = \"season\",\n",
    "                                      input_label2 = \"temp\",\n",
    "                                      target_label = \"cnt\")\n",
    "\n",
    "# Dataloader\n",
    "_dataloader = ordinary_dataloader(dataset = _dataset,\n",
    "                                  batch_size = 1)\n",
    "\n",
    "# Iterirajmo kroz nekliko podataka\n",
    "for _i, _item in enumerate(_dataloader):\n",
    "    print(_item)\n",
    "    if _i == 10:\n",
    "        break"
   ]
  },
  {
   "cell_type": "markdown",
   "id": "b4d2b8fd-9c2e-480b-be95-a8f167fb6825",
   "metadata": {},
   "source": [
    "---"
   ]
  },
  {
   "cell_type": "markdown",
   "id": "e2c8e6d1-4965-4e56-9d6c-ef1477803d76",
   "metadata": {},
   "source": [
    "## Izgradnja modela sa dvije ulazne varijable\n",
    "\n",
    "<font color='green'>\n",
    "    \n",
    "## Zadatak\n",
    "\n",
    "<left><img src=\"Images/Zadatak.png\" width=\"70\" height=\"70\"/></left>\n",
    "\n",
    "</font>\n",
    "\n",
    "\n",
    "Model sa dvije ulazne varijable, dakle $x_1$ i $x_2$, sa tri skrivena neurona i jednim izlaznim neuronom ima puno više parametara od modela sa jednom ulaznom varijablom. \n",
    "\n",
    "Vaš je zadatak implementirati model **model_2_3_1**  koristeći prethodno dani opis modela sa dva ulazna neurona/podatka, tri skrivena neurona te jednim izlaznim neuronom. Predložak modela implementiran je u skripti *model_2d.py*. Nakon implementacije odgovorite na sljedeća pitanja:\n",
    "\n",
    "* Koliko se povećava kompleksnost model - odnosno koliko parametara ima model?\n",
    "* Nakon što ste implementirali model, proučite kako se generira 2D izlazni prostor. Koje zaključke možete donjeti?\n",
    "* Vježbajte skiciranje izlaznog prostora za dani skup značajki.\n"
   ]
  },
  {
   "cell_type": "code",
   "execution_count": null,
   "id": "b6bad50f-20ad-45a9-a187-3a227f3f948c",
   "metadata": {},
   "outputs": [],
   "source": [
    "# Učitavanje knjižnice\n",
    "import numpy as np\n",
    "from sklearn.metrics import mean_squared_error\n",
    "from Skripte.Vjezba4.dataloader import bikeRentalDatasetTwoInputs, ordinary_dataloader\n",
    "from Skripte.Vjezba4.model_2d import model_2_3_1, plot_graph, print_model_summary"
   ]
  },
  {
   "cell_type": "code",
   "execution_count": null,
   "id": "f2f1f23b-6f74-40fb-a539-1d0aac35aa8d",
   "metadata": {},
   "outputs": [],
   "source": [
    "# Dataset\n",
    "_dataset = bikeRentalDatasetTwoInputs(path_to_csv = \"Skripte/Vjezba4/day_bikes_rental.csv\",\n",
    "                                      input_label1 = \"season\",\n",
    "                                      input_label2 = \"temp\",\n",
    "                                      target_label = \"cnt\",\n",
    "                                      normalizacija = True)\n",
    "\n",
    "# Dataloader\n",
    "_dataloader = ordinary_dataloader(dataset = _dataset,\n",
    "                                  batch_size = 1)\n",
    "\n",
    "# Model\n",
    "## Postavljanje parametara\n",
    "_theta_init = np.array([[0.0, 1.0, 2.5],\n",
    "                       [0.5, 2.0, 1.5],\n",
    "                       [-0.3, -1.0, 0.3]], dtype=float)  \n",
    "\n",
    "_psi_init   = np.array([1.0, 0.8, -0.2, 0.5], dtype=float) \n",
    "\n",
    "## Inicijalizacija modela\n",
    "_model = model_2_3_1(theta_init_matrix = _theta_init,\n",
    "                     psi_init_matrix = _psi_init,\n",
    "                     activation_function = \"relu\")\n",
    "\n",
    "# Iterirajmo kroz nekliko podataka i snimimo rezultate\n",
    "_ground_truth = []\n",
    "_predictions = []\n",
    "for _i, _item in enumerate(_dataloader):\n",
    "    _x1, _x2, _y = _item\n",
    "    # predikcija\n",
    "    _y_hat = _model(_x1, _x2)\n",
    "\n",
    "    # Snimanje\n",
    "    _ground_truth.append(_y.detach().cpu().item())\n",
    "    _predictions.append(_y_hat.detach().cpu().item())\n",
    "\n",
    "    # Results\n",
    "    print(f\"x1:{_x1}, x2:{_x2}, y:{_y}, y_hat:{_y_hat}\")\n",
    "    \n",
    "    # Early stop\n",
    "    if _i == 10: break\n",
    "\n",
    "# MSE, ukoliko je dobro implementirano mora biti \n",
    "_mse = mean_squared_error(_predictions, _ground_truth)\n",
    "print(\"-----------------------------------------------\")\n",
    "print(f\"Calculated MSE:{_mse}, expected MSE: 1.2073869\")"
   ]
  },
  {
   "cell_type": "code",
   "execution_count": null,
   "id": "6ef9317f-b415-45da-a370-30849f259bde",
   "metadata": {},
   "outputs": [],
   "source": [
    "# Ispis osnovnog opisa modela (inspekcija broja parametara)\n",
    "print_model_summary(model = _model,\n",
    "                   device = \"cpu\",\n",
    "                   input_dim = [(1,), (1,)])"
   ]
  },
  {
   "cell_type": "code",
   "execution_count": null,
   "id": "8d65659e-0a11-44fd-acc4-5e6ace70844f",
   "metadata": {},
   "outputs": [],
   "source": [
    "# Iscrtavanje grafa modela (inspekcija povezanosti slojeva)\n",
    "plot_graph(model = _model,\n",
    "           device = \"cpu\",\n",
    "           input_dim = [(1,), (1,)])"
   ]
  },
  {
   "cell_type": "markdown",
   "id": "2edd8138-28da-48db-a45d-cd4452612f40",
   "metadata": {},
   "source": [
    "---"
   ]
  },
  {
   "cell_type": "code",
   "execution_count": null,
   "id": "647a883c-b22d-447d-bacb-17a8043cf926",
   "metadata": {},
   "outputs": [],
   "source": [
    "# Učitavanje knjižnice\n",
    "from Skripte.Vjezba4.plot import create_model_2_3_1_component_plots_widget\n",
    "create_model_2_3_1_component_plots_widget(device = \"cpu\")"
   ]
  },
  {
   "cell_type": "markdown",
   "id": "a9a3f719-96a0-415b-a332-2258331908c0",
   "metadata": {},
   "source": [
    "---\n",
    "---"
   ]
  },
  {
   "cell_type": "markdown",
   "id": "516a577b-3592-435a-b510-5f6d9847c94b",
   "metadata": {},
   "source": [
    "## Izgradnja modela sa dvije izlazne varijable\n",
    "\n",
    "<font color='green'>\n",
    "    \n",
    "## Zadatak\n",
    "\n",
    "<left><img src=\"Images/Zadatak.png\" width=\"70\" height=\"70\"/></left>\n",
    "\n",
    "</font>\n",
    "\n",
    "\n",
    "Model sa jednom ulaznom varijablom, sa tri skrivena neurona i dvama izlaznim neuronima($y_1 i y_2$), ima više parametara od modela sa jednom ulaznom varijablom i jednom izlaznom varijablom. \n",
    "\n",
    "Vaš je zadatak implementirati model **model_1_3_2**  koristeći prethodno dani opis modela sa dva ulazna neurona/podatka, tri skrivena neurona te jednim izlaznim neuronom. Predložak modela implementiran je u skripti *model_2d.py*. Nakon implementacije odgovorite na sljedeća pitanja:\n",
    "\n",
    "* Koliko se povećava kompleksnost model - odnosno koliko parametara ima model?\n",
    "* Nakon što ste implementirali model, proučite [to je izlaz navedenog modela. Koje zaključke možete donjeti?\n",
    "* Vježbajte skiciranje izlaznog prostora za dani skup značajki.\n",
    "* Koji sve parametri utječu na izlaz neuronske mreže."
   ]
  },
  {
   "cell_type": "code",
   "execution_count": null,
   "id": "107a3cc0-b08e-4fb7-a305-714da34da883",
   "metadata": {},
   "outputs": [],
   "source": [
    "# Učitavanje knjižnice\n",
    "import numpy as np\n",
    "from sklearn.metrics import mean_squared_error\n",
    "from Skripte.Vjezba4.dataloader import bikeRentalDatasetTwoOutputs, ordinary_dataloader\n",
    "from Skripte.Vjezba4.model_2d import model_1_3_2, plot_graph, print_model_summary"
   ]
  },
  {
   "cell_type": "code",
   "execution_count": null,
   "id": "b5edc0f2-06cb-4b26-96f1-2fa8534f9fa4",
   "metadata": {
    "scrolled": true
   },
   "outputs": [],
   "source": [
    "# Dataset\n",
    "_dataset = bikeRentalDatasetTwoOutputs(path_to_csv = \"Skripte/Vjezba4/day_bikes_rental.csv\",\n",
    "                                       input_label = \"temp\",\n",
    "                                       target_label1 = \"casual\",\n",
    "                                       target_label2 = \"registered\",\n",
    "                                       normalizacija = True)\n",
    "\n",
    "# Dataloader\n",
    "_dataloader = ordinary_dataloader(dataset = _dataset,\n",
    "                                  batch_size = 1)\n",
    "\n",
    "# Model\n",
    "## Postavljanje parametara\n",
    "_theta_init = np.array([[0.0, 1.0],\n",
    "                       [0.5, 2.0],\n",
    "                       [-0.3, -1.0]], dtype=float)\n",
    "\n",
    "_psi_init   = np.array([[1.0, 0.8, -0.2, 0.5], \n",
    "                        [2.0, -0.8, 0.1, 1.2]], dtype=float)\n",
    "\n",
    "## Inicijalizacija modela\n",
    "_model = model_1_3_2(theta_init_matrix = _theta_init,\n",
    "                     psi_init_matrix = _psi_init,\n",
    "                     activation_function = \"relu\")\n",
    "\n",
    "# Iterirajmo kroz nekliko podataka i snimimo rezultate\n",
    "_ground_truth1 = []\n",
    "_ground_truth2 = []\n",
    "_predictions1 = []\n",
    "_predictions2 = []\n",
    "for _i, _item in enumerate(_dataloader):\n",
    "    _x, _y1, _y2 = _item\n",
    "    # predikcija\n",
    "    _y_hat1,_y_hat2 = _model((_x,))\n",
    "\n",
    "    # Snimanje\n",
    "    _ground_truth1.append(_y1.detach().cpu().item())\n",
    "    _ground_truth2.append(_y2.detach().cpu().item())\n",
    "    _predictions1.append(_y_hat1.detach().cpu().item())\n",
    "    _predictions2.append(_y_hat2.detach().cpu().item())\n",
    "\n",
    "    # Results        print(\"TU\", _y1, _y2)\n",
    "\n",
    "    print(f\"x:{_x}, y:{_y1}, y:{_y2}, y_hat_1:{_y_hat1}, y_hat_2:{_y_hat2}\")\n",
    "    \n",
    "    # Early stop\n",
    "    if _i == 10: break\n",
    "\n",
    "# MSE, ukoliko je dobro implementirano mora biti prema zadanim brojevima\n",
    "_mse1 = mean_squared_error(_predictions1, _ground_truth1)\n",
    "_mse2 = mean_squared_error(_predictions2, _ground_truth2)\n",
    "\n",
    "print(\"-----------------------------------------------\")\n",
    "print(f\"Calculated MSE1:{_mse1}, expected MSE: 0.6694325,\\nCalculated MSE1:{_mse2}, expected MSE: 3.14305520\")"
   ]
  },
  {
   "cell_type": "code",
   "execution_count": null,
   "id": "ca297beb-dd55-499a-b952-af8f54afd7ec",
   "metadata": {},
   "outputs": [],
   "source": [
    "# Ispis osnovnog opisa modela (inspekcija broja parametara)\n",
    "print_model_summary(model = _model,\n",
    "                   device = \"cpu\",\n",
    "                   input_dim = (1,))"
   ]
  },
  {
   "cell_type": "code",
   "execution_count": null,
   "id": "27e23dd3-c025-41d8-906a-10486cf0443f",
   "metadata": {},
   "outputs": [],
   "source": [
    "# Iscrtavanje grafa modela (inspekcija povezanosti slojeva)\n",
    "plot_graph(model = _model,\n",
    "           device = \"cpu\",\n",
    "           input_dim = (1,))"
   ]
  },
  {
   "cell_type": "code",
   "execution_count": null,
   "id": "69429e32-dde1-4b52-ad61-1cfa0a545994",
   "metadata": {},
   "outputs": [],
   "source": [
    "# Učitavanje knjižnice\n",
    "from Skripte.Vjezba4.plot import create_model_1_3_2_component_plots_widget\n",
    "create_model_1_3_2_component_plots_widget(device = \"cpu\")\n"
   ]
  },
  {
   "cell_type": "markdown",
   "id": "e01a1fd2-5fc6-4a19-9c72-8c200d9cf756",
   "metadata": {},
   "source": [
    "---"
   ]
  },
  {
   "cell_type": "markdown",
   "id": "89b4b1e5-a461-48d2-8fbc-9d4102888148",
   "metadata": {},
   "source": [
    "## Broj regija i broj parametara neuronske mreže\n",
    "\n",
    "Svaka neuronska mreža, kako je do sada prikazano, ima svojstvo da opisuje određni dio prostora. Koliko kompleksno neuoronska mreža može opisati prostor uvelike ovisi o broju parametara što je direktno povezano sa brojem neurona u neuronskoj mreži. Tako se za neuronsku mrežu sa $D_i$ ulaznih neurona i sa $D$ skrivenih neurona kao što je prikazano na sljedećo slici vrijedi sljedeći izračun (Zaslavskyeva formula) za broj regija:\n",
    "\n",
    "\\begin{equation}N = \\sum_{j=0}^{D_{i}}\\binom{D}{j}=\\sum_{j=0}^{D_{i}} \\frac{D!}{(D-j)!j!} \\end{equation} \n",
    "\n",
    "Te izračun za broj parametara:\n",
    "\n",
    "\\begin{equation} N = (D_{i}+1) \\cdot D + D + 1 \\end{equation} \n",
    "\n",
    "\n",
    "<center><img src=\"Images/V4_NN.png\" width=\"350\" height=\"350\"/></center>\n",
    "\n",
    "---\n",
    "\n",
    "<font color='red'>\n",
    "    \n",
    "## Zadatak\n",
    "\n",
    "<left><img src=\"Images/Zadatak.png\" width=\"70\" height=\"70\"/></left>\n",
    "\n",
    "</font>\n",
    "\n",
    "Implementirajte funkcije koja će za dani broj ulaznih neurona, skrivenih neurona i jednog izlaznog neurona računati broj regija i parametara.\n",
    "Funkcije za crtanje će skicirati broj regija i parametara na grafu koristeći implementirane funkcije. Funkcije je potrebno implementirati u skripti **Skripte.Vjezba4.broj_regija_i_parametara.py** prema danim predlošcima.\n",
    "\n",
    "Odgovorite na pitanja:\n",
    "\n",
    "* Iznesite zaključke o relaciji parametara $D_i$ i $D$ u odnosu na broj regija.\n",
    "* Kako su korelirani broj parametara i broj regija.\n",
    "* Kako $D_i$ a kako $D$ utječe na broj parametara.\n",
    "* Izračunajte na papiru broj regija i parametara za sljedeće vrijednosti (rezultate provjerite pomoću implementiranih funckija):\n",
    "\n",
    "  * $D_i = 1$, $D = 3$,\n",
    "  * $D_i = 2$, $D = 3$,\n",
    "  * $D_i = 2$, $D = 5$,\n",
    "  * $D_i = 10$, $D = 3$,\n",
    "  * $D_i = 3$, $D = 10$\n",
    "  \n"
   ]
  },
  {
   "cell_type": "code",
   "execution_count": null,
   "id": "1263a418-24ef-4a9d-ad4b-023c5f9e81b9",
   "metadata": {},
   "outputs": [],
   "source": [
    "# Knjižnice\n",
    "from Skripte.Vjezba4.broj_regija_i_parametara import broj_regija, broj_parametara, create_regions_widget_D, create_regions_widget_Di\n",
    "create_regions_widget_D()"
   ]
  },
  {
   "cell_type": "code",
   "execution_count": null,
   "id": "2ed0751e-93c6-40f8-81d8-3c8e14830918",
   "metadata": {},
   "outputs": [],
   "source": [
    "create_regions_widget_Di()"
   ]
  },
  {
   "cell_type": "markdown",
   "id": "fc7aacfe-71e4-4df7-bcad-7d31cfa2c2ea",
   "metadata": {},
   "source": [
    "---"
   ]
  },
  {
   "cell_type": "markdown",
   "id": "fd98dec6-ef26-4dfd-8d90-6586d314c22f",
   "metadata": {},
   "source": [
    "## Kompozicija neuronskih mreža\n",
    "\n",
    "Do sada su svi primjeri imali jednostavne neuronske mreže koje su se sastojale od ulaznog sloja, skrivenog sloja te izlaznog sloja. Da bi neuronska mreža postala dubokom, potrebno je da se sastoji od više skrivenih slojeva. Kako bi dobili intuiciju, prikazati će se najjednostavnija kompozicija neuronskih mreža u kojoj prva neuronska mreža ima jedan izlaz koji je ujedno i ulaz u drugu neurosnku mrežu. Proučite sljedeću sliku:\n",
    "\n",
    "\n",
    "<center><img src=\"Images/V4_NN2.png\" width=\"500\" height=\"500\"/></center>\n",
    "\n",
    "---"
   ]
  },
  {
   "cell_type": "markdown",
   "id": "426bede4-9ea4-49c4-bfb8-ac0f1d372435",
   "metadata": {},
   "source": [
    "<font color='red'>\n",
    "    \n",
    "## Zadatak\n",
    "\n",
    "<left><img src=\"Images/Zadatak.png\" width=\"70\" height=\"70\"/></left>\n",
    "\n",
    "</font>\n",
    "\n",
    "Idući programski kod definira dvije neuronske mreže $net_1$ i $net_2$ te od njih radi kompoziciju, kao što je prikazano na slici. Vaš je zadatak proučiti kako se formira konačni izlaz te samostalno nacrtati izlaz kompozitne neuronske mreže. Implementirano je nekoliko verzija neuronskih mreža te slobodno eksperimentirajte sa različitima."
   ]
  },
  {
   "cell_type": "code",
   "execution_count": null,
   "id": "61c96ed6-cb34-4b29-88dc-2de3a0e31b6f",
   "metadata": {},
   "outputs": [],
   "source": [
    "from Skripte.Vjezba4.plot import create_model_1_3_1_presets_widget\n",
    "create_model_1_3_1_presets_widget()"
   ]
  },
  {
   "cell_type": "markdown",
   "id": "64671a04-772b-438b-8536-310f6a7e87ee",
   "metadata": {},
   "source": [
    "---"
   ]
  },
  {
   "cell_type": "markdown",
   "id": "ee2561a3-4d5c-45e6-88a3-32d457ce2abb",
   "metadata": {},
   "source": [
    "## MLP - Multi-Layer Perceptron\n",
    "\n",
    "Na poslijetku, kombinacijom kompozicije neuronskih mreža i prethodno viđenih neuronskih mreža dobivamo MLP - Multi Layer Perceptron oblika kao na slici:\n",
    "\n",
    "<center><img src=\"Images/V4_NN3.png\" width=\"500\" height=\"500\"/></center>\n",
    "\n",
    "---\n",
    "\n",
    "\n",
    "<font color='red'>\n",
    "    \n",
    "## Zadatak\n",
    "\n",
    "<left><img src=\"Images/Zadatak.png\" width=\"70\" height=\"70\"/></left>\n",
    "\n",
    "</font>\n",
    "\n",
    "U skripti **Skripte/Vjezba4/mlp.py** implementiran je MLP sa slike koristeći PyTorch *Linear* funkciju i *Sequntial* kao omotač. Proučite na internetu što rade navedene funkcije te implemntirajte identičnu neuronsku mrežu koristeći funkcije u prethodnim primjerima. Dobivene neuronske mreže usporedite pomoću *print_model_summary* i *plot_graph funkcija*."
   ]
  },
  {
   "cell_type": "code",
   "execution_count": null,
   "id": "8d1b1870-4718-4a0e-9871-08219b280e56",
   "metadata": {},
   "outputs": [],
   "source": [
    "# Učitavanje knjižica\n",
    "from Skripte.Vjezba4.mlp import MLP_1_3_3_1\n",
    "from Skripte.Vjezba4.model_2d import plot_graph, print_model_summary"
   ]
  },
  {
   "cell_type": "code",
   "execution_count": null,
   "id": "3b71a6b3-862d-43af-b084-f0575b029ac8",
   "metadata": {},
   "outputs": [],
   "source": [
    "_model = MLP_1_3_3_1()"
   ]
  },
  {
   "cell_type": "code",
   "execution_count": null,
   "id": "f8415dae-f413-4e79-aef6-ac2e69fb5282",
   "metadata": {},
   "outputs": [],
   "source": [
    "# Ispis osnovnog opisa modela (inspekcija broja parametara)\n",
    "print_model_summary(model = _model,\n",
    "                   device = \"cpu\",\n",
    "                   input_dim = (1,))"
   ]
  },
  {
   "cell_type": "code",
   "execution_count": null,
   "id": "578bc774-8784-4059-b0cc-ac315aac09d9",
   "metadata": {},
   "outputs": [],
   "source": [
    "# Iscrtavanje grafa modela (inspekcija povezanosti slojeva)\n",
    "plot_graph(model = _model,\n",
    "           device = \"cpu\",\n",
    "           input_dim = (1,))"
   ]
  }
 ],
 "metadata": {
  "kernelspec": {
   "display_name": "Python 3 (ipykernel)",
   "language": "python",
   "name": "python3"
  },
  "language_info": {
   "codemirror_mode": {
    "name": "ipython",
    "version": 3
   },
   "file_extension": ".py",
   "mimetype": "text/x-python",
   "name": "python",
   "nbconvert_exporter": "python",
   "pygments_lexer": "ipython3",
   "version": "3.12.11"
  }
 },
 "nbformat": 4,
 "nbformat_minor": 5
}
